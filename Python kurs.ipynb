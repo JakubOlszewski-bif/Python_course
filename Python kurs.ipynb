{
 "cells": [
  {
   "cell_type": "markdown",
   "id": "human-convertible",
   "metadata": {},
   "source": [
    "<center><h1>Podstawy+ języka Python (3.9)</h1></center>\n",
    "\n",
    "<center><h5><em>Opracował: Jakub Olszewski</em></h5></center>"
   ]
  },
  {
   "cell_type": "markdown",
   "id": "hazardous-graphic",
   "metadata": {},
   "source": [
    "## Błędy i wyjątki\n",
    "\n",
    "W języku Python wyróżniane sa dwa główne rodzaje błędów:  \n",
    "    - `SyntaxError` - błedy w gramatyce przechwycone przez interpreter **zanim** program zostanie wykonany. **Zawsze** zatrzymuje działanie programu;  \n",
    "    - `Exception` - wyjątki spowodowane są próbą wykonania nieprawidłowej operacji **w trakcie** działania programu. W zależności od wyjątku, mogą przerwać działanie programu. "
   ]
  },
  {
   "cell_type": "markdown",
   "id": "enabling-court",
   "metadata": {},
   "source": [
    "### `SyntaxError`  \n",
    "\n",
    "Błędy składniowe sa zazwyczaj naprostrze do rozwiązania:"
   ]
  },
  {
   "cell_type": "code",
   "execution_count": null,
   "id": "original-column",
   "metadata": {},
   "outputs": [],
   "source": [
    "for lambda in range(5):"
   ]
  },
  {
   "cell_type": "markdown",
   "id": "f103dcae",
   "metadata": {},
   "source": [
    "[Table of reserved keywords in Python](#another_cell)"
   ]
  },
  {
   "cell_type": "code",
   "execution_count": null,
   "id": "ignored-casting",
   "metadata": {
    "scrolled": true
   },
   "outputs": [],
   "source": [
    "'zmienna' = 1"
   ]
  },
  {
   "cell_type": "code",
   "execution_count": null,
   "id": "opposite-trunk",
   "metadata": {},
   "outputs": [],
   "source": [
    "print(123) = 123"
   ]
  },
  {
   "cell_type": "code",
   "execution_count": null,
   "id": "classified-large",
   "metadata": {
    "scrolled": true
   },
   "outputs": [],
   "source": [
    "print(1234"
   ]
  },
  {
   "cell_type": "code",
   "execution_count": null,
   "id": "announced-notion",
   "metadata": {
    "scrolled": true
   },
   "outputs": [],
   "source": [
    "lista = [1,2,3,4] \n",
    " for liczba in lista:\n",
    "        print(liczba)"
   ]
  },
  {
   "cell_type": "markdown",
   "id": "swiss-identifier",
   "metadata": {},
   "source": [
    "Innym rodzajem błędu składniowego jest niekończąca się pętla:"
   ]
  },
  {
   "cell_type": "code",
   "execution_count": null,
   "id": "fatal-miracle",
   "metadata": {},
   "outputs": [],
   "source": [
    "x = 1\n",
    "y = 2\n",
    "while x > 0:\n",
    "    print(f\"warunek x={x} > 0: \", x > 0)\n",
    "    y += 1\n",
    "    print(y)"
   ]
  },
  {
   "cell_type": "markdown",
   "id": "swiss-phoenix",
   "metadata": {},
   "source": [
    "### `Exceptions`\n",
    "\n",
    "Wyjątki pojawiają się gdy poprawny składniowo kod powoduje `runtime error` - błąd napotkany w trakcie działania programu.  \n",
    "Interpreter Python'a posiada wbudowane komunikaty o błędach, zazwyczaj tworzące `stack traceback` – historię wykonanych poleceń które doprowadziły do błędu."
   ]
  },
  {
   "cell_type": "code",
   "execution_count": null,
   "id": "double-conspiracy",
   "metadata": {
    "scrolled": false
   },
   "outputs": [],
   "source": [
    "open(\"nieIstniejącyPlik.txt\", \"r\")"
   ]
  },
  {
   "cell_type": "code",
   "execution_count": null,
   "id": "recent-moscow",
   "metadata": {
    "scrolled": false
   },
   "outputs": [],
   "source": [
    "lista = [0,1,2] # 3 elementy\n",
    "lista[10]       # 9-ty element"
   ]
  },
  {
   "cell_type": "code",
   "execution_count": null,
   "id": "arabic-lincoln",
   "metadata": {
    "scrolled": false
   },
   "outputs": [],
   "source": [
    "słownik = {'jeden' : 1, 'dwa' : 2, 'trzy' : 3}\n",
    "słownik['cztery']"
   ]
  },
  {
   "cell_type": "code",
   "execution_count": null,
   "id": "black-neighborhood",
   "metadata": {
    "scrolled": true
   },
   "outputs": [],
   "source": [
    "print(nieIstniejącaZmienna)"
   ]
  },
  {
   "cell_type": "code",
   "execution_count": null,
   "id": "flush-shooting",
   "metadata": {
    "scrolled": false
   },
   "outputs": [],
   "source": [
    "'stringów nie mnoży się' * 'przez inne stringi'"
   ]
  },
  {
   "cell_type": "code",
   "execution_count": null,
   "id": "listed-dependence",
   "metadata": {
    "scrolled": true
   },
   "outputs": [],
   "source": [
    "print(   int('7.0')   )"
   ]
  },
  {
   "cell_type": "code",
   "execution_count": null,
   "id": "undefined-majority",
   "metadata": {
    "scrolled": false
   },
   "outputs": [],
   "source": [
    "print(        float('7.0')   )\n",
    "print(    int(float('7.0'))  )"
   ]
  },
  {
   "cell_type": "code",
   "execution_count": null,
   "id": "direct-hammer",
   "metadata": {
    "scrolled": false
   },
   "outputs": [],
   "source": [
    "10 / 0"
   ]
  },
  {
   "cell_type": "code",
   "execution_count": null,
   "id": "cubic-dayton",
   "metadata": {
    "scrolled": false
   },
   "outputs": [],
   "source": [
    "# Stack Traceback jest szczególnie przydatny w przypadku złożonych funkcji czy klas\n",
    "\n",
    "def wewnętrzna(y):\n",
    "    y = 1 / y\n",
    "    return y\n",
    "\n",
    "def zewnętrzna(x):\n",
    "    x = x-1\n",
    "    return wewnętrzna(x)\n",
    "\n",
    "x = 1\n",
    "zewnętrzna(x)"
   ]
  },
  {
   "cell_type": "markdown",
   "id": "communist-angle",
   "metadata": {},
   "source": [
    "[Exception hierarchy](#exception_hierarchy)"
   ]
  },
  {
   "cell_type": "markdown",
   "id": "configured-programming",
   "metadata": {},
   "source": [
    "### Obsługa błędów  \n",
    "\n",
    "W trakcie pisania programu może okazać się, że _musimy_ albo _spodziewamy się_ obsługiwać się danymi w sposób który może wywołać błąd. Jeżeli nie jest on powodem do zatrzymania programu, ten błąd może zostać przechwycony przez klauzulę `try…except` w celu wykonania określonego działania.  "
   ]
  },
  {
   "cell_type": "code",
   "execution_count": null,
   "id": "oriented-intake",
   "metadata": {},
   "outputs": [],
   "source": [
    "try:\n",
    "    kod do wykonania\n",
    "    ...\n",
    "except ZeroDivisionError:\n",
    "    kod do wykonania w razie wykrycia wskazanego błędu wewnątrz bloku try\n",
    "except InnyBłąd:\n",
    "    inny sposób zachowania dla innego błędu wykrytego wewnątrz bloku try\n",
    "except (NazwaBłędu, InnyBłąd, ...):\n",
    "    kod do wykonania w razie wykrycia któregoś z błędów (ze wskazanej listy) w bloku try\n",
    "except:\n",
    "    code to do when ANY error occurs (not advised)\n",
    "else:\n",
    "    kod do wykonania w razie nie wykrycia błędu wewnątrz bloku try\n",
    "finally:\n",
    "    kod wykonywany **zawsze** po zakończeniu działania powyższych bloków (to jest try, except i else)"
   ]
  },
  {
   "cell_type": "markdown",
   "id": "handmade-cosmetic",
   "metadata": {},
   "source": [
    "<h3><i><center>\"Easier to Ask Forgiveness than to seek Permission (EAFP)\"</center></i></h3>  \n",
    "<h3><center> vs. </center></h3>  \n",
    "<h3><i><center>\"Look Before You Leap (LBYL)\"</center></i></h3> "
   ]
  },
  {
   "cell_type": "code",
   "execution_count": null,
   "id": "taken-worthy",
   "metadata": {},
   "outputs": [],
   "source": [
    "#EAFP\n",
    "def jedenPrzezY(y):\n",
    "    try:\n",
    "        y = 1 / y\n",
    "    except ZeroDivisionError:\n",
    "        return \"Nie można dzielić przez 0\"\n",
    "    except TypeError:\n",
    "        return \"Proszę podać liczbę (float lub interger)\"\n",
    "    return y\n",
    "\n",
    "print(\"1 / 10  = \",   jedenPrzezY(10)   )\n",
    "print(\"1 / 0   = \",   jedenPrzezY(0)    )\n",
    "print(\"1 /'a'  = \",   jedenPrzezY(\"a\")  )"
   ]
  },
  {
   "cell_type": "code",
   "execution_count": null,
   "id": "traditional-virgin",
   "metadata": {
    "scrolled": true
   },
   "outputs": [],
   "source": [
    "#LBYL\n",
    "def jedenPrzezY_v2(y):\n",
    "    if isinstance(y, int) or isinstance(y, float):\n",
    "        if y != 0:\n",
    "            y = 1 / y\n",
    "            return y\n",
    "        else:\n",
    "            return \"Nie można dzielić przez 0\"\n",
    "    else:\n",
    "        return \"Proszę podać liczbę (float lub interger)\"\n",
    "    \n",
    "print(\"1 / 20  = \",   jedenPrzezY_v2(20)   )\n",
    "print(\"1 / 0   = \",   jedenPrzezY_v2(0)    )\n",
    "print(\"1 /'b'  = \",   jedenPrzezY_v2(\"b\")  )"
   ]
  },
  {
   "cell_type": "code",
   "execution_count": null,
   "id": "widespread-substitute",
   "metadata": {
    "scrolled": true
   },
   "outputs": [],
   "source": [
    "# wydajność try...except vs. if...else\n",
    "import timeit\n",
    "\n",
    "print(\"Bez sprawdzania:        \", timeit.timeit(setup=\"a=1;b=1\", stmt=\"a/b\")) \n",
    "\n",
    "print(\"try...except bez błędu: \", timeit.timeit(setup=\"a=1;b=1\", stmt=\"try:\\n a/b\\nexcept ZeroDivisionError:\\n pass\"))\n",
    "print(\"try...except z błędem:  \", timeit.timeit(setup=\"a=1;b=0\", stmt=\"try:\\n a/b\\nexcept ZeroDivisionError:\\n pass\"))\n",
    "\n",
    "print(\"if...else bez błedu:    \", timeit.timeit(setup=\"a=1;b=1\", stmt=\"if b!=0:\\n a/b\"))\n",
    "print(\"if...else z błędem:     \", timeit.timeit(setup=\"a=1;b=0\", stmt=\"if b!=0:\\n a/b\"))"
   ]
  },
  {
   "cell_type": "markdown",
   "id": "respected-indonesian",
   "metadata": {},
   "source": [
    "Source w/w przykładu: https://stackoverflow.com/a/1835844/14162275"
   ]
  },
  {
   "cell_type": "markdown",
   "id": "occupational-flour",
   "metadata": {},
   "source": [
    "Python pozwala również na \"ręczne\" wywoływanie błędów przy pomocy funkcji `raise`:"
   ]
  },
  {
   "cell_type": "code",
   "execution_count": null,
   "id": "rocky-liver",
   "metadata": {
    "scrolled": false
   },
   "outputs": [],
   "source": [
    "...\n",
    "try:\n",
    "    assert y%2\n",
    "    y = 1 / t\n",
    "except AssertionError:\n",
    "    return \"y musi być parzyste\"\n",
    "..."
   ]
  },
  {
   "cell_type": "code",
   "execution_count": null,
   "id": "close-judgment",
   "metadata": {},
   "outputs": [],
   "source": [
    "def jedenPrzezY_v3(y):\n",
    "    \"\"\" Dzielenie 1 przez zadaną zmienną y ale tylko gdy y jest parzyste \"\"\"\n",
    "    try:\n",
    "        if y%2:\n",
    "            raise ValueError\n",
    "        y = 1 / y\n",
    "    except ValueError:\n",
    "        return \"y musi być parzyste\"\n",
    "    except ZeroDivisionError:\n",
    "        return \"Nie można dzielić przez 0\"\n",
    "    except TypeError:\n",
    "        return \"Proszę podać liczbę (float lub interger)\"\n",
    "    return y\n",
    "\n",
    "print(\"1 / 8   = \",   jedenPrzezY_v3(8)    )\n",
    "print(\"1 / 3   = \",   jedenPrzezY_v3(3)    )\n",
    "print(\"1 / 0   = \",   jedenPrzezY_v3(0)    )\n",
    "print(\"1 /'a'  = \",   jedenPrzezY_v3(\"a\")  )"
   ]
  },
  {
   "cell_type": "markdown",
   "id": "eastern-simon",
   "metadata": {},
   "source": [
    "Wydajność `try...except` vs. `if...else`"
   ]
  },
  {
   "cell_type": "code",
   "execution_count": null,
   "id": "seeing-bowling",
   "metadata": {},
   "outputs": [],
   "source": [
    "import timeit\n",
    "\n",
    "print(\"No error handling:      \", timeit.timeit(setup=\"a=1;b=1\", stmt=\"a/b\")) \n",
    "\n",
    "print(\"try...except, no error: \", timeit.timeit(setup=\"a=1;b=1\", stmt=\"try:\\n a/b\\nexcept ZeroDivisionError:\\n pass\"))\n",
    "print(\"try...except, w/ error: \", timeit.timeit(setup=\"a=1;b=0\", stmt=\"try:\\n a/b\\nexcept ZeroDivisionError:\\n pass\"))\n",
    "\n",
    "print(\"if...else, no error:    \", timeit.timeit(setup=\"a=1;b=1\", stmt=\"if b!=0:\\n a/b\"))\n",
    "print(\"if...else, w/ error:    \", timeit.timeit(setup=\"a=1;b=0\", stmt=\"if b!=0:\\n a/b\"))"
   ]
  },
  {
   "cell_type": "markdown",
   "id": "electric-reviewer",
   "metadata": {},
   "source": [
    "Source: https://stackoverflow.com/a/1835844/14162275"
   ]
  },
  {
   "cell_type": "markdown",
   "id": "logical-suite",
   "metadata": {},
   "source": [
    "Podobną funkcją jest `assert <warunek>` która pozwala na wywołanie `AssertionError` gdy badany warunek zwraca wartość `False`:"
   ]
  },
  {
   "cell_type": "code",
   "execution_count": null,
   "id": "handed-assistant",
   "metadata": {
    "scrolled": true
   },
   "outputs": [],
   "source": [
    "assert 2 == 2, \"2 jest równe 2, zatem warunek zwraca True czyli ten komunikat się nie wyświetli\"\n",
    "print(\"Skończone\")"
   ]
  },
  {
   "cell_type": "code",
   "execution_count": null,
   "id": "greenhouse-prisoner",
   "metadata": {
    "scrolled": true
   },
   "outputs": [],
   "source": [
    "assert 1 == 2, \"1 nie jest równe 2, czyli warunek zwraca False\"\n",
    "print(\"Skończone\")"
   ]
  },
  {
   "cell_type": "code",
   "execution_count": null,
   "id": "trying-fantasy",
   "metadata": {},
   "outputs": [],
   "source": [
    "def cross_product(a ,b):\n",
    "    \"\"\" Obliczenie iloczynu wektorowego dla dwóch wektorów 3-wymiarowych \"\"\"\n",
    "    assert len(a) == len(b) == 3, \"Wektory a i b muszą być 3-wymiarowe\"\n",
    "    return [a[1]*b[2] - a[2]*b[1],\n",
    "            a[2]*b[0] - a[0]*b[2],\n",
    "            a[0]*b[1] - a[1]*b[0]]\n",
    "\n",
    "a = [1,2,3]\n",
    "b = [4,5,6]\n",
    "print(\"a × b = \", cross_product(a,b))"
   ]
  },
  {
   "cell_type": "code",
   "execution_count": null,
   "id": "radical-paraguay",
   "metadata": {
    "scrolled": true
   },
   "outputs": [],
   "source": [
    "a = [1,2,3,4]\n",
    "b = [5,6,7]\n",
    "print(\"a × b = \", cross_product(a,b))   "
   ]
  },
  {
   "cell_type": "markdown",
   "id": "aware-omaha",
   "metadata": {},
   "source": [
    "## Listy, Zbiory i Słowniki\n",
    "\n",
    "Python oferuje kilka struktur do przechowywania danych. Są nimi, m.in.:\n",
    "- **Listy**  \\[`list`\\] - najbardziej wszechstronna struktura, będąca mutowalnym szeregiem jakichkolwiek argumentów;   \n",
    "- **Zbiory**  ({`set`}) - mutowalny szereg **unikalnych** oraz **hashowalnych** argumentów;  \n",
    "- **Słowniki**  {`dict`} - mutowalny szereg par `key: value`, przy czym `key` jest **unikalnym** oraz **hashowalnym** argumentem."
   ]
  },
  {
   "cell_type": "markdown",
   "id": "preceding-azerbaijan",
   "metadata": {},
   "source": [
    "### Hash\n",
    "Funkcja znajdywana w wielu językach programowania służąca do przypisywania argumentom krótkich i łatwych do weryfikacji sygnatur pozwalających na ich szybki i łatwy dostęp.  \n",
    "W Pythonie funkcja ta jest wykorzystywana m.in. przez **zbiory** i **słowniki** do tworzenia tych struktur danych."
   ]
  },
  {
   "cell_type": "markdown",
   "id": "generous-least",
   "metadata": {},
   "source": [
    "![Funkcja hash](https://upload.wikimedia.org/wikipedia/commons/5/58/Hash_table_4_1_1_0_0_1_0_LL.svg)"
   ]
  },
  {
   "cell_type": "code",
   "execution_count": null,
   "id": "overall-dressing",
   "metadata": {},
   "outputs": [],
   "source": [
    "imię = \"John Smith\"\n",
    "print(f\"hash(imię): {hash(imię)}\")"
   ]
  },
  {
   "cell_type": "code",
   "execution_count": null,
   "id": "golden-nepal",
   "metadata": {},
   "outputs": [],
   "source": [
    "argument = 'zawartość'\n",
    "print(   hash(argument)   )\n",
    "\n",
    "liczba = 1234\n",
    "print(   hash(liczba)   )"
   ]
  },
  {
   "cell_type": "code",
   "execution_count": null,
   "id": "recreational-moore",
   "metadata": {
    "scrolled": true
   },
   "outputs": [],
   "source": [
    "hash( [1,2,3] )"
   ]
  },
  {
   "cell_type": "code",
   "execution_count": null,
   "id": "burning-commander",
   "metadata": {
    "scrolled": true
   },
   "outputs": [],
   "source": [
    "hash( {'a' : 1} )"
   ]
  },
  {
   "cell_type": "code",
   "execution_count": null,
   "id": "current-jungle",
   "metadata": {},
   "outputs": [],
   "source": [
    "hash( ({1,2,3}) )"
   ]
  },
  {
   "cell_type": "markdown",
   "id": "infinite-greece",
   "metadata": {},
   "source": [
    "### Listy\n",
    "\n",
    "Tworzone są zamieszczając argumenty oddzielone przecinkiem `,` wewnątrz nawiasów kwadratowych `[...]` lub przekazując argumenty do konstruktora `list(...)` w postaci **iterowalnego** obiektu:"
   ]
  },
  {
   "cell_type": "code",
   "execution_count": null,
   "id": "integral-bennett",
   "metadata": {
    "scrolled": false
   },
   "outputs": [],
   "source": [
    "lista = [1,2,\"trzy\",4.4,[5,6,7], ({8,9}), {10 : 'dziesięć'}]\n",
    "print(f\"lista : {lista}\")\n",
    "\n",
    "innaLista = list('12345678910')\n",
    "print(f\"innaLista : {innaLista}\")\n",
    "\n",
    "# Generator tworzy iterowalny obiekt (zaufajcie mi; więcej o tym później)\n",
    "def iterowalny(x):\n",
    "    while x <= 10:\n",
    "        yield x\n",
    "        x += 1\n",
    "        \n",
    "innaLista = list(iterowalny(1))\n",
    "print(f\"innaLista : {innaLista}\")\n",
    "\n",
    "print(f\"\\nlista[3] = {lista[3]}\\n\")\n",
    "print(f\"lista[-1] = {lista[-1]}\\n\")\n",
    "print(f\"lista[0:5] = {lista[0:5]}\\n\")"
   ]
  },
  {
   "cell_type": "markdown",
   "id": "regular-words",
   "metadata": {},
   "source": [
    "#### Metody `list`"
   ]
  },
  {
   "cell_type": "code",
   "execution_count": null,
   "id": "lesser-raise",
   "metadata": {
    "scrolled": false
   },
   "outputs": [],
   "source": [
    "różneElementy = [1,2,3, \"cztery\",[5,6,7], 8,9,{10 : 'dziesięć'}]\n",
    "print('różneElementy:    ', różneElementy, '\\n')\n",
    "\n",
    "lista = [1,2,3]\n",
    "\n",
    "# Dodaj na koniec listy\n",
    "lista.append('element')\n",
    "print('append(\"element\"):', lista, '\\n')\n",
    "\n",
    "# Poszerz listę o elementy w zadanym iterowalnym obiekcie\n",
    "różneElementy.extend('element')\n",
    "print('extend różneEle:  ',różneElementy, '\\n')\n",
    "\n",
    "lista.extend(['element', 'inny element'])\n",
    "print('extend lista:     ',lista, '\\n')"
   ]
  },
  {
   "cell_type": "code",
   "execution_count": null,
   "id": "iraqi-drove",
   "metadata": {},
   "outputs": [],
   "source": [
    "lista = [1, 2, 3, 'element', 'element', 'inny element'] \n",
    "# Wstaw argument w zadanej pozycji\n",
    "lista.insert(1, 'argument')\n",
    "print(\"insert: \", lista, '\\n')\n",
    "\n",
    "# Usuń pierwszy argument z listy którego wartość równa się zadanemu argumentowi\n",
    "lista.remove('element')\n",
    "print(\"remove: \", lista, '\\n')\n",
    "\n",
    "# Zwróć i usuń argument w zadanej pozycji (domyślnie ostatnia)\n",
    "print('pop() zwraca: ', lista.pop())\n",
    "print(\"pop  : \", lista, '\\n')\n",
    "print('pop(1) zwraca: ', lista.pop(1))\n",
    "print(\"pop 2: \", lista, '\\n')"
   ]
  },
  {
   "cell_type": "code",
   "execution_count": null,
   "id": "final-messenger",
   "metadata": {
    "scrolled": true
   },
   "outputs": [],
   "source": [
    "różneElementy = [1,2,3, \"cztery\",[5,6,7], 8,9,{10 : 'dziesięć'}]\n",
    "# Wyczyść całą listę\n",
    "różneElementy.clear()\n",
    "print('różneElementy: ', różneElementy, '\\n')\n",
    "\n",
    "lista = [1, 2, 3, 'element', 'element', 'inny element']\n",
    "# Zwróć indeks zadanego argumentu wewnątrz listy (jeżeli ten argument się w niej znajduje)\n",
    "print('index(\"element\"): ',lista.index('element'))\n",
    "print('lista:           ', lista, '\\n')\n",
    "\n",
    "# Zwróć ilość wystąpień zadanego argumentu\n",
    "wieleArg = [5,10,2,4,1,1,1,2,2,1,1,1,3,1,3,5]\n",
    "print('wieleArg.count(1): ', wieleArg.count(1), '\\n')"
   ]
  },
  {
   "cell_type": "code",
   "execution_count": null,
   "id": "joined-silver",
   "metadata": {
    "scrolled": true
   },
   "outputs": [],
   "source": [
    "wieleArg = [5,10,2,4,1,1,1,2,2,1,1,1,3,1,3,5]\n",
    "# Posortuj listę (domyślnie rosnąco)\n",
    "print('wieleArg przed sort:            ', wieleArg)\n",
    "wieleArg.sort()\n",
    "print('wieleArg po sort:               ', wieleArg)\n",
    "wieleArg.sort(reverse= True)\n",
    "print('wieleArg po sort(reverse=True): ', wieleArg, '\\n')\n",
    "\n",
    "# Odwróć listę\n",
    "print('wieleArg przed reverse: ', wieleArg)\n",
    "wieleArg.reverse()\n",
    "print('wieleArg po reverse:    ', wieleArg, '\\n')\n",
    "\n",
    "# Zwróć kopię listy\n",
    "kopia = wieleArg.copy()\n",
    "print('kopia:             ', kopia)\n",
    "print('kopia == wieleArg: ', kopia == wieleArg,'\\n')\n",
    "\n",
    "# Usuń element w danej pozycji bez zwracania\n",
    "print('wieleArg: ', wieleArg)\n",
    "del wieleArg[-1]\n",
    "print('wieleArg: ', wieleArg)\n"
   ]
  },
  {
   "cell_type": "markdown",
   "id": "b7cce521",
   "metadata": {},
   "source": [
    "[Python's default sorting algorithm - Timsort](https://en.wikipedia.org/wiki/Timsort)"
   ]
  },
  {
   "cell_type": "markdown",
   "id": "magnetic-matthew",
   "metadata": {},
   "source": [
    "### Zbiory"
   ]
  },
  {
   "cell_type": "markdown",
   "id": "friendly-collapse",
   "metadata": {},
   "source": [
    "Zbiór definiuje się zawierając argumenty oddzielone przecinkiem `,` wewnątrz dwóch nawiasów (okrągły i klamrowy) `({...})` lub przekazując listę argumentów do konstruktora `set(...)`"
   ]
  },
  {
   "cell_type": "code",
   "execution_count": null,
   "id": "premier-utility",
   "metadata": {
    "scrolled": true
   },
   "outputs": [],
   "source": [
    "# Tworzenie zbioru\n",
    "zbior = ({1,2,3, 1,2,3})\n",
    "print('zbiór ({}): ',zbior, '\\n')\n",
    "\n",
    "zbior = set([2,1,2,3,3,1])\n",
    "print('zbiór set:  ',zbior, '\\n')\n",
    "\n",
    "def iterowalny(x):\n",
    "    while x <= 10:\n",
    "        yield x\n",
    "        x += 1\n",
    "zbior = set(iterowalny(8))\n",
    "print('zbiór set(generator):  ',zbior)\n",
    "zbior.add(1)\n",
    "print('zbiór set(generator):  ',zbior, '\\n')\n",
    "\n",
    "zbior = set('iterowalny')\n",
    "print('zbiór set:  ',zbior, '\\n')\n",
    "\n",
    "# set przyjmuje tylko hashowalne obiekty\n",
    "zbior = ({1, 1.1, '\"string\"', (\"krotka\",\"krotka2\"), frozenset((['zamrożony zbiór']))})\n",
    "print(\"Hashowalne obiekty w zbiorze: \", zbior)"
   ]
  },
  {
   "cell_type": "markdown",
   "id": "sunset-healthcare",
   "metadata": {},
   "source": [
    "### Metody `set`"
   ]
  },
  {
   "cell_type": "code",
   "execution_count": null,
   "id": "dependent-interim",
   "metadata": {
    "scrolled": true
   },
   "outputs": [],
   "source": [
    "zbiorA = ({1,2,3,4,5,6,7})\n",
    "zbiorB = ({1,2,3,6})\n",
    "\n",
    "# Dodaj element do zbioru\n",
    "print(\"zbiorA:         \", zbiorA)\n",
    "zbiorA.add(10)\n",
    "print(\"zbiorA.add(10): \", zbiorA,'\\n')\n",
    "print(\"zbiorB:        \", zbiorB)\n",
    "zbiorB.add(5)\n",
    "print(\"zbiorB.add(5): \", zbiorB,'\\n')\n",
    "\n",
    "# Zwróć zbiór będący różnicą pomiędzy zadanymi zbiorami (A \\ B)\n",
    "print(\"A \\ B : \", zbiorA.difference(zbiorB), '\\n')\n",
    "\n",
    "# Usuń ze zbioru elementy które znajdują się również w zadanym zbiorze\n",
    "print(\"zbiorA: \", zbiorA)\n",
    "zbiorA.difference_update(zbiorB)\n",
    "print(\"zbiorA.difference_update(zbiorB): \", zbiorA,'\\n')"
   ]
  },
  {
   "cell_type": "code",
   "execution_count": null,
   "id": "neither-webster",
   "metadata": {},
   "outputs": [],
   "source": [
    "zbiorA = ({1,2,3,4,5,6,7})\n",
    "zbiorB = ({1,2,3,6})\n",
    "\n",
    "# Zwróć zbiór będący sumą zadanych zbiorów (A ∪ B)\n",
    "print(\"A ∪ B: \", zbiorA.union(zbiorB),'\\n')\n",
    "\n",
    "# Dodaj do zbioru elementy z zadanego zbioru\n",
    "print(\"zbiorA: \", zbiorA)\n",
    "zbiorB.update(zbiorA)\n",
    "print(\"zbiorB.update(zbiorA): \", zbiorA,'\\n')"
   ]
  },
  {
   "cell_type": "code",
   "execution_count": null,
   "id": "subject-denver",
   "metadata": {},
   "outputs": [],
   "source": [
    "zbiorA = ({1,2,3,4,5,6,7})\n",
    "zbiorB = ({1,2,3,6})\n",
    "\n",
    "# Zwróć zbiór będący częścią wspólną zadanych zbiorów (A ∩ B)\n",
    "print(\"A ∩ B: \", zbiorA.intersection(zbiorB),'\\n')\n",
    "\n",
    "# Usuń ze zbioru elementy które nie znajdują się również w zadanym zbiorze\n",
    "print(\"zbiorA: \", zbiorA)\n",
    "zbiorA.intersection_update(zbiorB)\n",
    "print(\"zbiorA.intersection_update(zbiorB): \", zbiorA,'\\n')"
   ]
  },
  {
   "cell_type": "code",
   "execution_count": null,
   "id": "steady-logic",
   "metadata": {},
   "outputs": [],
   "source": [
    "zbiorA = ({1,2,3,4,5,6,7})\n",
    "zbiorB = ({1,2,3,6})\n",
    "\n",
    "# Zwróć True jeżeli zadane zbiory są rozłączne (żaden argument nie znajduje się wewnątrz obu zbiorów na raz)\n",
    "print(\"Zbiory A i B są rozłączne: \", zbiorA.isdisjoint(zbiorB), '\\n')\n",
    "\n",
    "# Zwróć True jeżeli zbiór jest podzbiorem zadanego zbioru (A ⊆ B, A ⊂ B)\n",
    "print(\"B ⊂ A: \", zbiorB.issubset(zbiorA))\n",
    "print(f\"zbiorB <= zbiorA: {zbiorB <= zbiorA}\")\n",
    "print(f\"zbiorB < zbiorA: {zbiorB < zbiorA}\\n\")\n",
    "\n",
    "# Zwróć True jeżeli zbiór jest zbiorem nadrzędnym zadanego zbioru\n",
    "print(\"A ⊃ B: \", zbiorA.issuperset(zbiorB))\n",
    "print(f\"zbiorA >= zbiorB: {zbiorA >= zbiorB}\")\n",
    "print(f\"zbiorA > zbiorB: {zbiorA > zbiorB}\\n\")\n",
    "\n",
    "# Zwróć zbiór będący symetryczną różnicą zadanych zbiorów (A ∆ B)\n",
    "print(\"A ∆ B: \", zbiorA.symmetric_difference(zbiorB))\n",
    "print(f\"zbiorA ^ zbiorB: {zbiorA ^ zbiorB}\\n\")"
   ]
  },
  {
   "cell_type": "code",
   "execution_count": null,
   "id": "conscious-customer",
   "metadata": {},
   "outputs": [],
   "source": [
    "zbiorA = ({1,2,3,4,5,6,7})\n",
    "zbiorB = ({1,2,3,6})\n",
    "\n",
    "# Usuń zadany argument ze zbioru\n",
    "print(\"zbiorA: \", zbiorA)\n",
    "zbiorA.discard(1)\n",
    "print(\"zbiorA.discard(1): \", zbiorA,'\\n')\n",
    "\n",
    "# Usuń wskazany argument, jeżeli nie istnieje wywołaj KeyError\n",
    "print(\"zbiorA: \", zbiorA)\n",
    "zbiorA.remove(7)\n",
    "print(\"zbiorA.remove(7): \", zbiorA,'\\n')\n",
    "\n",
    "# Zwróć i usuń pierwszy element ze zbioru\n",
    "print(\"zbiorA: \", zbiorA)\n",
    "print(\"zbiorA.pop(): \", zbiorA.pop())\n",
    "print(\"zbiorA po pop: \", zbiorA,'\\n')\n",
    "\n",
    "# Usuń wszystkie elementy ze zbioru\n",
    "zbiorA.clear()\n",
    "print(\"zbiorA: \", zbiorA)"
   ]
  },
  {
   "cell_type": "markdown",
   "id": "accepted-share",
   "metadata": {},
   "source": [
    "### Słowniki\n",
    "\n",
    "Słownik konstruowany jest zawierając pary `klucz: warość` oddzielone przecinkiem `,` wewnątrz nawiasu klamrowego `{...}`, lub przekazując pary `(klucz, wartość)` w postaci iterowalnego obiektu do konstruktora `dict`"
   ]
  },
  {
   "cell_type": "code",
   "execution_count": null,
   "id": "female-jerusalem",
   "metadata": {
    "scrolled": true
   },
   "outputs": [],
   "source": [
    "slownik = {'a' : 1, 'b' : 2}\n",
    "print('slownik: ',slownik)\n",
    "slownik = dict((('a', 1), ('b', 2)))\n",
    "print('slownik: ',slownik, '\\n')\n",
    "\n",
    "# Dodanie nowej pary (klucz: wartość) do słownika\n",
    "slownik['c'] = 3\n",
    "print('slownik: ',slownik, '\\n')\n",
    "\n",
    "# Podanie tego samego klucza z inną wartością\n",
    "slownik['a'] = 4\n",
    "print('slownik: ',slownik, '\\n')"
   ]
  },
  {
   "cell_type": "code",
   "execution_count": null,
   "id": "legislative-confirmation",
   "metadata": {},
   "outputs": [],
   "source": [
    "# Obiekt do przykładu\n",
    "class obiekt:\n",
    "    def __init__(self, argument):\n",
    "        self.argument = argument\n",
    "    def __str__(self):\n",
    "        return f\"Obiekt z argumentem: {self.argument}\"\n",
    "    \n",
    "# Jako value można dać praktycznie wszystko\n",
    "slownikPrzyklad = {'integer'  : 1,\n",
    "                   'zmiennop' : 1.1,\n",
    "                   'string'   : 'tekst',\n",
    "                   'lista'    : [1,2,3],\n",
    "                   'zbiór'    : ({10,20,30}),\n",
    "                   'słownik'  : slownik,\n",
    "                   'obiekt'   : obiekt('Jakaś Wartość')}\n",
    "\n",
    "# Wizualizacja\n",
    "for klucz in slownikPrzyklad:\n",
    "    print(f\"{klucz:>10} : {str(slownikPrzyklad[klucz]):<10}\")"
   ]
  },
  {
   "cell_type": "code",
   "execution_count": null,
   "id": "arctic-roommate",
   "metadata": {
    "scrolled": false
   },
   "outputs": [],
   "source": [
    "obiektWZmiennej = obiekt(\"Wartość\")\n",
    "\n",
    "# Z key sprawa jest bardziej skomplikowana\n",
    "slownikPrzykladKluczy = {1      : 'integer',\n",
    "                         1.1    : 'float',\n",
    "                        'tekst' : 'string',\n",
    "                        (1,2,3) : 'krotka',\n",
    "          frozenset((10,20,30)) : 'zamrożony zbiór',\n",
    "              (('a',1),('b',2)) : '\"słownik\"',\n",
    "                obiektWZmiennej : 'obiekt'}\n",
    "\n",
    "# Wizualizacja\n",
    "for klucz in slownikPrzykladKluczy:\n",
    "    print(f\"{str(klucz):>30} : {str(slownikPrzykladKluczy[klucz]):<30}\")\n",
    "\n",
    "# Zamiana na właściwy słownik\n",
    "pseudoDict = list(slownikPrzykladKluczy.keys())[5]\n",
    "\n",
    "print('\\n', pseudoDict, \"zamienione na słownik\", dict(pseudoDict))"
   ]
  },
  {
   "cell_type": "markdown",
   "id": "crude-spider",
   "metadata": {},
   "source": [
    "### Metody `dict`"
   ]
  },
  {
   "cell_type": "code",
   "execution_count": null,
   "id": "interpreted-emperor",
   "metadata": {
    "scrolled": true
   },
   "outputs": [],
   "source": [
    "slownik = {'a' : 1, 'b' : ['alfa','beta'], 'c' : 3.14}\n",
    "print(f\"slownik: {slownik} \\n\")\n",
    "\n",
    "# Stwórz słownik z zadanymi kluczami (w postaci iterowalnego obiektu) i przypisz im wszystkim zadaną wartość\n",
    "nowySlownik = dict.fromkeys(('wartosc','wartosc2'), 10)\n",
    "print(f\"nowySlownik: {nowySlownik} \\n\")\n",
    "\n",
    "# Zwróć wartość o zadanym kluczu\n",
    "print(f\"slownik.get('a'): {slownik.get('a')}\")\n",
    "print(f\"slownik.get('nieMaWSłowniku'): {slownik.get('nieMaWSłowniku')} \\n\")\n",
    "\n",
    "# Zwróć wartość argumentu o danym kluczu, jeżeli nie istnieje - dodaj do słownika z zadaną wartością domyślną\n",
    "print(f\"slownik: {slownik}\")\n",
    "print(f\"slownik.setdefault('c','brak'): {slownik.setdefault('c','brak')}\")\n",
    "print(f\"slownik.setdefault('nieMaWSłowniku', 'brak'): {slownik.setdefault('nieMaWSłowniku', 'brak')}\")\n",
    "print(f\"slownik: {slownik} \\n\")"
   ]
  },
  {
   "cell_type": "code",
   "execution_count": null,
   "id": "healthy-intelligence",
   "metadata": {},
   "outputs": [],
   "source": [
    "slownik = {'a' : 1, 'b' : ['alfa','beta'], 'c' : 3.14}\n",
    "# Zwróć kopię słownika\n",
    "kopia = slownik.copy()\n",
    "print(f\"kopia: {kopia}\")\n",
    "print(f\"kopia == slownik: {kopia == slownik}\")\n",
    "print(f\"id(kopia) != id(slownik): {id(kopia) != id(slownik)}\\n\")\n",
    "\n",
    "# Zaktualizuj słownik przy użyciu zadanego iterowalnego obiektu zawierającego pary (klucz: wartość)\n",
    "print(f\"slownik: {slownik}\")\n",
    "slownik.update({'w' : 98, 'x' : 99})\n",
    "\n",
    "print(f\"slownik: {slownik}\")\n",
    "\n",
    "slownik.update((('y',100),('z', 101)))\n",
    "print(f\"slownik: {slownik} \\n\")"
   ]
  },
  {
   "cell_type": "code",
   "execution_count": null,
   "id": "artistic-words",
   "metadata": {
    "scrolled": true
   },
   "outputs": [],
   "source": [
    "slownik = {'a' : 1, 'b' : ['alfa','beta'], 'c' : 3.14}\n",
    "\n",
    "# Zwróć iterowalny obiekt zawierający pary (klucz, wartość) wewnątrz krotek\n",
    "print(f\"items: {slownik.items()}\\n\")\n",
    "\n",
    "# Zwróć iterowalny obiekt zawierający klucze słownika\n",
    "print(f\"keys: {slownik.keys()}\\n\")\n",
    "\n",
    "# Zwróć iterowalny obiekt zawierający wartości słownika\n",
    "print(f\"key:item : {slownik.values()}\")"
   ]
  },
  {
   "cell_type": "code",
   "execution_count": null,
   "id": "forward-tokyo",
   "metadata": {},
   "outputs": [],
   "source": [
    "# Obiekty te są iterowalne ale nie indeksowalne (od Python 3.6+)\n",
    "slownik = {'a' : 1, 'b' : ['alfa','beta'], 'c' : 3.14}\n",
    "klucze = slownik.keys()\n",
    "\n",
    "print(\"Klucze: \", end = ' ')\n",
    "for key in klucze:\n",
    "    print(key, end = ' ')\n",
    "\n",
    "klucze[0]"
   ]
  },
  {
   "cell_type": "code",
   "execution_count": null,
   "id": "important-darkness",
   "metadata": {},
   "outputs": [],
   "source": [
    "slownik = {'a' : 1, 'b' : ['alfa','beta'], 'c' : 3.14, 'e' : 1.1112, 'f' : 'element'}\n",
    "# Zwróć i usuń ze słownika element o zadanym kluczu\n",
    "print(f'slownik.pop(\"a\"): {slownik.pop(\"a\")}')\n",
    "print(f\"slownik: {slownik}\")\n",
    "print(f'slownik.pop(\"c\"): {slownik.pop(\"c\")}')\n",
    "print(f\"slownik: {slownik} \\n\")\n",
    "\n",
    "# Zwróć i usuń ostanią parę klucz: wartość w słowniku\n",
    "print(f\"slownik.popitem(): {slownik.popitem()}\")\n",
    "print(f\"slownik: {slownik} \\n\")\n",
    "\n",
    "# Usuń wszystkie elementy ze słownika\n",
    "slownik.clear()\n",
    "print(f\"slownik: {slownik} \\n\")"
   ]
  },
  {
   "cell_type": "markdown",
   "id": "affiliated-minute",
   "metadata": {},
   "source": [
    "## Syntatic Sugar\n",
    "\n",
    "Wiele języków programowania zapewnia syntax pozwalający na ułatwienie pisania oraz rozumienia kodu. Takiego rodzaju \"składniowy cukier\" (ang. syntatic sugar) *pozbywa się* niektórych elementów bez naruszania funkcjonalności języka."
   ]
  },
  {
   "cell_type": "code",
   "execution_count": null,
   "id": "durable-pocket",
   "metadata": {
    "scrolled": true
   },
   "outputs": [],
   "source": [
    "lista = ['pierwszy', 'drugi', 'trzeci','czwarty']\n",
    "\n",
    "print(lista[0])\n",
    "print(lista.__getitem__(0),'\\n')\n",
    "\n",
    "print(\"drugi\" in lista)\n",
    "print(lista.__contains__(\"drugi\"))"
   ]
  },
  {
   "cell_type": "markdown",
   "id": "exclusive-essex",
   "metadata": {},
   "source": [
    "### F-stringi\n",
    "\n",
    "Inaczej zwane \"formated string literals\", f-string jest rodzajem string'u z literą f na początku `f\" \"` oraz nawiasami klamrowymi `{ }` (zwanymi *polami zastępczymi*) zawierający fragmenty kodu które zostaną wykonane a ich wyniki zapisane wewnątrz string'u."
   ]
  },
  {
   "cell_type": "code",
   "execution_count": null,
   "id": "middle-scout",
   "metadata": {},
   "outputs": [],
   "source": [
    "# Przykładowy f-string\n",
    "\n",
    "a_variable = 12345\n",
    "an_f_string = f\"The variable contains the following number: {a_variable}\"\n",
    "print(an_f_string)"
   ]
  },
  {
   "cell_type": "code",
   "execution_count": null,
   "id": "corresponding-witness",
   "metadata": {},
   "outputs": [],
   "source": [
    "for i in range(5):\n",
    "    print(f\"The current i is equal to {i}\")"
   ]
  },
  {
   "cell_type": "code",
   "execution_count": null,
   "id": "committed-decrease",
   "metadata": {},
   "outputs": [],
   "source": [
    "def square(x):\n",
    "    return x**2\n",
    "\n",
    "# Oprócz zmiennych, wewnątrz pól zastępczych możemy również zawierać wywoływania funkcji czy warunki.b\n",
    "for i in range(1,5):\n",
    "    print(f\"   i = {i} \\n i+1 = {i+1} \\ni**2 = {square(i)}\\nodd? : {True if i%2 else False}\")\n",
    "    print(f\"{'-'*12}\")"
   ]
  },
  {
   "cell_type": "code",
   "execution_count": null,
   "id": "controlled-animal",
   "metadata": {},
   "outputs": [],
   "source": [
    "# Wyrównywanie spacjami\n",
    "\n",
    "for i in range(6,12):\n",
    "    print(f\"Current number is : {i:3}\")\n",
    "# ___\n",
    "# i = 1\n",
    "# __1\n",
    "# i = 10\n",
    "# _10\n",
    "# i = 100\n",
    "# 100"
   ]
  },
  {
   "cell_type": "code",
   "execution_count": null,
   "id": "enhanced-syndrome",
   "metadata": {},
   "outputs": [],
   "source": [
    "# Wyrównywanie zerami\n",
    "\n",
    "for i in range(6,12):\n",
    "    print(f\"Current number is : {i:02}\")"
   ]
  },
  {
   "cell_type": "code",
   "execution_count": null,
   "id": "brutal-popularity",
   "metadata": {},
   "outputs": [],
   "source": [
    "# Przyrównanie\n",
    "\n",
    "for i in range(1,6):\n",
    "    print(f\"{'*'*i:>5} : {i} stars\")"
   ]
  },
  {
   "cell_type": "code",
   "execution_count": null,
   "id": "sticky-hudson",
   "metadata": {},
   "outputs": [],
   "source": [
    "print(f\"{'*':^11}\")\n",
    "for i in range(1,6):\n",
    "    print(f\"{'*'*i:>5}|{'*'*i:<5}\")\n",
    "print(f\"{'M':^11}\")"
   ]
  },
  {
   "cell_type": "markdown",
   "id": "enormous-handle",
   "metadata": {},
   "source": [
    "### Skróty przypisywania i porównywania"
   ]
  },
  {
   "cell_type": "code",
   "execution_count": null,
   "id": "paperback-being",
   "metadata": {
    "scrolled": false
   },
   "outputs": [],
   "source": [
    "# Przypisywanie wielu argumentom tej samej wartości\n",
    "x = y = z = 10\n",
    "print(f\"x: {x}  y: {y}  z: {z}\")"
   ]
  },
  {
   "cell_type": "code",
   "execution_count": null,
   "id": "ignored-ultimate",
   "metadata": {
    "scrolled": true
   },
   "outputs": [],
   "source": [
    "# Uwaga przy przypisywaniu mutowalnych obiektów\n",
    "x = y = z = [1,2,3]\n",
    "print(f\"x: {x}  y: {y}  z: {z} \\n\")\n",
    "print(\"x.append(100) \\n\")\n",
    "x.append(100)\n",
    "print(f\"x: {x}  y: {y}  z: {z}\")"
   ]
  },
  {
   "cell_type": "code",
   "execution_count": null,
   "id": "knowing-alias",
   "metadata": {
    "scrolled": true
   },
   "outputs": [],
   "source": [
    "# Rozpakowywanie wielu argumentów\n",
    "a, b, c = 'tekst', [1,2,3], 4.5\n",
    "print(f'a: {a}  b: {b}  c: {c}')"
   ]
  },
  {
   "cell_type": "code",
   "execution_count": null,
   "id": "offensive-representative",
   "metadata": {},
   "outputs": [],
   "source": [
    "krotka = ({1 : 'wartość', 2: \"słownik\"}, ({1,20,300}), lambda x: x+1)\n",
    "# d = krotka[0], e = krotka[1], f = krotka[2]\n",
    "d,e,f = krotka\n",
    "print(f\"d: {d}  e: {e}  f: {f}\")"
   ]
  },
  {
   "cell_type": "code",
   "execution_count": null,
   "id": "streaming-tactics",
   "metadata": {
    "scrolled": false
   },
   "outputs": [],
   "source": [
    "# Warunek przy przypisywaniu\n",
    "def dzielPrzezX(x):\n",
    "    x = 1 / x if x else 1\n",
    "    return x\n",
    "\n",
    "print(f' 1 / 10 = {dzielPrzezX(10)} \\n'\n",
    "      f' 1 / 0 = {dzielPrzezX(0)}')"
   ]
  },
  {
   "cell_type": "markdown",
   "id": "illegal-aging",
   "metadata": {},
   "source": [
    "### List comprehention\n",
    "\n",
    "Tworzenie listy na podstawie innego iterowalnego obiektu."
   ]
  },
  {
   "cell_type": "code",
   "execution_count": null,
   "id": "knowing-navigation",
   "metadata": {},
   "outputs": [],
   "source": [
    "listaXow = [1,2,3,4,5]\n",
    "\n",
    "kwadraty = [x**2 for x in listaXow]\n",
    "print(kwadraty)\n",
    "\n",
    "# Równoznaczne z:\n",
    "kwadraty = []\n",
    "for x in listaXow:\n",
    "    kwadraty.append(x**2)\n",
    "\n",
    "print(kwadraty)"
   ]
  },
  {
   "cell_type": "code",
   "execution_count": null,
   "id": "false-rainbow",
   "metadata": {
    "scrolled": true
   },
   "outputs": [],
   "source": [
    "listaXow = [1,2,3,4,5]\n",
    "# List comprehention + warunek\n",
    "\n",
    "# kwadraty liczb parzystych\n",
    "kwadraty  = [x**2 for x in listaXow if x%2]\n",
    "print(kwadraty)"
   ]
  },
  {
   "cell_type": "code",
   "execution_count": null,
   "id": "seventh-projection",
   "metadata": {
    "scrolled": true
   },
   "outputs": [],
   "source": [
    "iterowalnyObiekt = 'abcd'\n",
    "duzeLitery = [l.upper() for l in iterowalnyObiekt]\n",
    "print(duzeLitery)"
   ]
  },
  {
   "cell_type": "markdown",
   "id": "hungarian-thread",
   "metadata": {},
   "source": [
    "### Funkcje `lambda`\n",
    "\n",
    "Inaczej \"*anonimowa funkcja*\" lub \"*abstrakcja lambda*\"; rodzaj prostych jednoliniowych funkcji."
   ]
  },
  {
   "cell_type": "code",
   "execution_count": null,
   "id": "allied-grave",
   "metadata": {
    "scrolled": true
   },
   "outputs": [],
   "source": [
    "f = lambda x: x**2 - 3*x + 2\n",
    "print(f'f(10) = {f(10)}')"
   ]
  },
  {
   "cell_type": "code",
   "execution_count": null,
   "id": "sought-dublin",
   "metadata": {
    "scrolled": true
   },
   "outputs": [],
   "source": [
    "f = lambda x,y: x**2 + 2*x*y + y**2\n",
    "print(f'f(2,3) = {f(2,3)}')"
   ]
  },
  {
   "cell_type": "code",
   "execution_count": null,
   "id": "olive-internship",
   "metadata": {
    "scrolled": false
   },
   "outputs": [],
   "source": [
    "def wyzsza(x):\n",
    "    return x + 2\n",
    "\n",
    "f = lambda x: wyzsza(x)\n",
    "\n",
    "print(f'f(5) = {f(5)}')"
   ]
  },
  {
   "cell_type": "code",
   "execution_count": null,
   "id": "minor-working",
   "metadata": {},
   "outputs": [],
   "source": [
    "listaFunc = [lambda x: x,\n",
    "             lambda x: x**2,\n",
    "             lambda x: x**3]\n",
    "\n",
    "print(f'listaFunc[0](5) = {listaFunc[0](5)}')\n",
    "print(f'listaFunc[1](5) = {listaFunc[1](5)}')\n",
    "print(f'listaFunc[2](5) = {listaFunc[2](5)}')"
   ]
  },
  {
   "cell_type": "code",
   "execution_count": null,
   "id": "cognitive-science",
   "metadata": {
    "scrolled": true
   },
   "outputs": [],
   "source": [
    "potegi = [1,2,3,4]\n",
    "listaFunc = []\n",
    "def doPotegi(x,y): return x**y\n",
    "\n",
    "for potega in potegi:\n",
    "    listaFunc.append(lambda  x,potega=potega: doPotegi(x,potega))\n",
    "    \n",
    "for funkcja in listaFunc:\n",
    "    print(f\"funkcja(2) = {funkcja(2)}\")"
   ]
  },
  {
   "cell_type": "code",
   "execution_count": null,
   "id": "manual-newman",
   "metadata": {
    "scrolled": true
   },
   "outputs": [],
   "source": [
    "print(sorted(\"Sorted jest Wrażliwe na Wielkość liter\".split()))\n",
    "print(sorted(\"Sorted jest Wrażliwe na Wielkość liter\".split(), key = str.upper), \"\\n\")"
   ]
  },
  {
   "cell_type": "code",
   "execution_count": null,
   "id": "handled-narrative",
   "metadata": {},
   "outputs": [],
   "source": [
    "elementy = [('At', 85), ('Br', 35), ('Cl', 17), ('F', 9), ('I', 53)]\n",
    "print(sorted(elementy, key = lambda e: e[1]))"
   ]
  },
  {
   "cell_type": "markdown",
   "id": "sunset-sight",
   "metadata": {},
   "source": [
    "### Generatory\n",
    "\n",
    "Funkcje zachowujące się jak iterowalne obiekty. Jest to bardziej wydajne i oszczędne rozwiązanie niż np. przechowywanie wartości wewnątrz listy. Definiowane jak funkcja lecz zamiast składni `return` korzysta z `yield` które \"zatrzymuje\" działanie funkcji zamiast ją zamykać."
   ]
  },
  {
   "cell_type": "code",
   "execution_count": null,
   "id": "indirect-combat",
   "metadata": {},
   "outputs": [],
   "source": [
    "# yield zatrzymuje działanie funkcji\n",
    "\n",
    "def multiYield():\n",
    "    i = 0\n",
    "    komunikat = f\"Pierwszy komunikat; i = {i}\"\n",
    "    yield komunikat\n",
    "    i += 1\n",
    "    komunikat = f\"Drugi komunikat; i = {i}\"\n",
    "    yield komunikat\n",
    "    i += 1\n",
    "    komunikat = f\"Trzeci komunikat; i = {i}\"\n",
    "    yield komunikat\n",
    "    \n",
    "gen = multiYield()\n",
    "for _ in range(3):\n",
    "    print(next(gen))"
   ]
  },
  {
   "cell_type": "code",
   "execution_count": null,
   "id": "beneficial-thought",
   "metadata": {},
   "outputs": [],
   "source": [
    "def licz(n):\n",
    "    i = 0\n",
    "    while i <= n:\n",
    "        yield i\n",
    "        i += 1\n",
    "        \n",
    "for liczba in licz(8):\n",
    "    print(liczba, end = ' ')"
   ]
  },
  {
   "cell_type": "code",
   "execution_count": null,
   "id": "colonial-shell",
   "metadata": {},
   "outputs": [],
   "source": [
    "# Generator comprehension\n",
    "\n",
    "licz = (i for i in range(9))\n",
    "for liczba in licz:\n",
    "    print(liczba, end = ' ')"
   ]
  },
  {
   "cell_type": "code",
   "execution_count": null,
   "id": "mathematical-concentration",
   "metadata": {},
   "outputs": [],
   "source": [
    "# Generatory są dobrym sposobem na optymalizację pamięci\n",
    "\n",
    "import sys\n",
    "nums_squared_lc = [i ** 2 for i in range(10000)]\n",
    "print(f\"Size of the list of square numbers : {sys.getsizeof(nums_squared_lc)} \")\n",
    "nums_squared_gc = (i ** 2 for i in range(10000))\n",
    "print(f\"Size of generator of square numbers : {sys.getsizeof(nums_squared_gc)}\")"
   ]
  },
  {
   "cell_type": "markdown",
   "id": "leading-cancellation",
   "metadata": {},
   "source": [
    "<img src=\"https://images-na.ssl-images-amazon.com/images/I/61oJ%2BsGyLIL._AC_SX425_.jpg\" width=\"240\" height=\"240\" align=\"left\"/>\n",
    "<img src=\"https://www.firstpalette.com/images/craft-steps/explodingnumbers-step3.jpg\" width=\"240\" height=\"240\" align=\"left\"/>"
   ]
  },
  {
   "cell_type": "code",
   "execution_count": null,
   "id": "incomplete-brunei",
   "metadata": {},
   "outputs": [],
   "source": [
    "def csv_reader(file_name):\n",
    "    file = open(file_name)\n",
    "    result = file.read().split(\"\\n\")\n",
    "    file.close()\n",
    "    return result"
   ]
  },
  {
   "cell_type": "code",
   "execution_count": null,
   "id": "infectious-congo",
   "metadata": {},
   "outputs": [],
   "source": [
    "#csv_gen = csv_reader(\"../a_really_big_file.txt\")\n",
    "# Załóżmy, że funkcja wywołała MemoryError...\n",
    "raise MemoryError"
   ]
  },
  {
   "cell_type": "code",
   "execution_count": null,
   "id": "adjustable-confidence",
   "metadata": {},
   "outputs": [],
   "source": [
    "def csv_reader_gen(file_name):\n",
    "    for row in open(file_name,\"r\"):\n",
    "        yield row"
   ]
  },
  {
   "cell_type": "code",
   "execution_count": null,
   "id": "casual-accounting",
   "metadata": {},
   "outputs": [],
   "source": [
    "csv_gen = csv_reader_gen(\"../a_really_big_file.txt\")\n",
    "count = 0\n",
    "for i in csv_gen:\n",
    "    count += 1\n",
    "print(f\"Row count is {count}\")"
   ]
  },
  {
   "cell_type": "markdown",
   "id": "structured-boutique",
   "metadata": {},
   "source": [
    "Source: https://realpython.com/introduction-to-python-generators/#example-1-reading-large-files"
   ]
  },
  {
   "cell_type": "markdown",
   "id": "residential-deviation",
   "metadata": {},
   "source": [
    "### `Map()`\n",
    "\n",
    "Funkcja zwracająca iterator nakładający zadaną funkcję na każdy element w podanej sekwencji."
   ]
  },
  {
   "cell_type": "code",
   "execution_count": null,
   "id": "residential-problem",
   "metadata": {
    "scrolled": false
   },
   "outputs": [],
   "source": [
    "listy = [[1,2,3],[4,5,6],[7,8,9]]\n",
    "\n",
    "m = map(sum, listy)\n",
    "print(f'm : {m}\\n')\n",
    "print(f\"lista z obiektu m : {list(m)}\\n\")\n",
    "m = map(sum, listy)\n",
    "for suma in m:\n",
    "    print(suma)"
   ]
  },
  {
   "cell_type": "code",
   "execution_count": null,
   "id": "viral-briefs",
   "metadata": {
    "scrolled": true
   },
   "outputs": [],
   "source": [
    "listy = [[1,2,3],[4,5,6],[7,8,9]]\n",
    "\n",
    "m = map(lambda x: x[1], listy)\n",
    "print(f\"lista z obiektu m : {list(m)}\\n\")"
   ]
  },
  {
   "cell_type": "markdown",
   "id": "surrounded-directive",
   "metadata": {},
   "source": [
    "## Moduły i paczki\n",
    "\n",
    "`Modułem` nazywa się program python definiujący funkcje i zmienne.  \n",
    "`Paczka` jest sposobem organizacji modułów. "
   ]
  },
  {
   "cell_type": "markdown",
   "id": "conventional-separation",
   "metadata": {},
   "source": [
    "### `import`"
   ]
  },
  {
   "cell_type": "code",
   "execution_count": null,
   "id": "pleased-template",
   "metadata": {
    "scrolled": false
   },
   "outputs": [],
   "source": [
    "import moduł\n",
    "\n",
    "print(f\"moduł.kwadrat(16) = {moduł.kwadrat(16)}\\n\")\n",
    "print(f\"moduł.zmienna: {moduł.zmienna}\\n\")"
   ]
  },
  {
   "cell_type": "code",
   "execution_count": null,
   "id": "selective-celebrity",
   "metadata": {},
   "outputs": [],
   "source": [
    "# import z zamianą nazwy\n",
    "import moduł as m\n",
    "\n",
    "print(f\"m.kwadrat(8) = {m.kwadrat(8)}\\n\")\n",
    "print(f\"m.zmienna: {m.zmienna}\\n\")"
   ]
  },
  {
   "cell_type": "code",
   "execution_count": null,
   "id": "defined-appearance",
   "metadata": {
    "scrolled": true
   },
   "outputs": [],
   "source": [
    "# wildcard import\n",
    "from moduł import *\n",
    "\n",
    "print(f\"kwadrat(4) = {kwadrat(4)}\\n\")\n",
    "print(f\"zmienna: {zmienna}\\n\")"
   ]
  },
  {
   "cell_type": "code",
   "execution_count": null,
   "id": "technological-czech",
   "metadata": {
    "scrolled": false
   },
   "outputs": [],
   "source": [
    "import paczka.fKwadratowa\n",
    "import paczka.potęga\n",
    "\n",
    "\n",
    "print(f\"f(5) = {paczka.fKwadratowa.fKwad(5)}\\n\")\n",
    "print(f\"2**5 = {paczka.potęga.potega(5)}\\n\")"
   ]
  },
  {
   "cell_type": "code",
   "execution_count": null,
   "id": "legislative-colonial",
   "metadata": {
    "scrolled": true
   },
   "outputs": [],
   "source": [
    "import paczka.fKwadratowa as fK\n",
    "import paczka.potęga as p\n",
    "\n",
    "\n",
    "print(f\"f(9) = {fK.fKwad(9)}\\n\")\n",
    "print(f\"2**7 = {p.potega(7)}\\n\")"
   ]
  },
  {
   "cell_type": "code",
   "execution_count": null,
   "id": "tested-reception",
   "metadata": {
    "scrolled": false
   },
   "outputs": [],
   "source": [
    "import cleanPkg\n",
    "\n",
    "# bezSpacji\n",
    "print(cleanPkg.bezSpc(\"String    bez    spacji\\n\"))\n",
    "\n",
    "# dużeLitery\n",
    "print(cleanPkg.dużeL(\"string z dużymi literami\\n\"))\n",
    "\n",
    "# gwiazdki\n",
    "print(cleanPkg.gwzdki(\"String w gwiazdkach\"))"
   ]
  },
  {
   "cell_type": "markdown",
   "id": "acute-french",
   "metadata": {},
   "source": [
    "## Funkcjonowanie z systemem operacyjnym"
   ]
  },
  {
   "cell_type": "markdown",
   "id": "technological-discovery",
   "metadata": {},
   "source": [
    "Python pozwala na interakcje między programem a systemem operacyjnym w którym został uruchomiony. "
   ]
  },
  {
   "cell_type": "markdown",
   "id": "conventional-constitutional",
   "metadata": {},
   "source": [
    "### Moduł `sys`"
   ]
  },
  {
   "cell_type": "code",
   "execution_count": null,
   "id": "matched-championship",
   "metadata": {},
   "outputs": [],
   "source": [
    "import sys\n",
    "\n",
    "#sys.argv\n",
    "\n",
    "#sys.exit\n",
    "\n",
    "print(\"sys.version: \", sys.version, '\\n')\n",
    "\n",
    "print(\"sys.path:\", sys.path)"
   ]
  },
  {
   "cell_type": "markdown",
   "id": "unknown-hands",
   "metadata": {},
   "source": [
    "### Moduł `os`"
   ]
  },
  {
   "cell_type": "code",
   "execution_count": null,
   "id": "anonymous-fitness",
   "metadata": {
    "scrolled": true
   },
   "outputs": [],
   "source": [
    "import os\n",
    "\n",
    "# os.getenv(key)\n",
    "print(f\"os.getenv('SYSTEMROOT') = {os.getenv('SYSTEMROOT')}\\n\")\n",
    "\n",
    "#os.listdir(path=<path>)\n",
    "print(f\"current dir: {os.listdir(path='.')}\\n\")\n",
    "\n",
    "#os.mkdir(<path>)\n",
    "os.mkdir(\"newDir\")\n",
    "print(f\"os.mkdir('newDir'): {os.listdir(path='.')}\\n\")\n",
    "\n",
    "#os.rmdir(<path>)\n",
    "os.rmdir(\"newDir\")\n",
    "print(f\"os.rmdir('newDir'): {os.listdir(path='.')}\\n\")"
   ]
  },
  {
   "cell_type": "code",
   "execution_count": null,
   "id": "0cd625c8",
   "metadata": {},
   "outputs": [],
   "source": [
    "#os.system(<command>)\n",
    "os.system(\"fsutil file createnew emptyfile.txt 0\")\n",
    "print(f\"os.listdir(path='.'): {os.listdir(path='.')}\\n\")\n",
    "\n",
    "#os.rename(<old name>, <new name>)\n",
    "os.rename(\"emptyfile.txt\",\"reallyEmptyFile.txt\")\n",
    "\n",
    "#os.remove(<path>)\n",
    "os.remove(\"reallyEmptyFile.txt\")\n",
    "print(f\"os.listdir(path='.'): {os.listdir(path='.')}\\n\")"
   ]
  },
  {
   "cell_type": "code",
   "execution_count": null,
   "id": "critical-ceiling",
   "metadata": {
    "scrolled": true
   },
   "outputs": [],
   "source": [
    "myPath = \"C:\\\\Users\\\\kubac\\\\Python_kurs\\\\paczka\\\\potęga.py\"\n",
    "#os.path.basename(<path>)\n",
    "print(f\"basename(myPath): {os.path.basename(myPath)}\\n\")\n",
    "\n",
    "#os.path.dirname(<path>)\n",
    "print(f\"os.path.dirname(myPath): {os.path.dirname(myPath)}\\n\")\n",
    "\n",
    "#os.path.split(<path>)\n",
    "print(f\"os.path.split(myPath): {os.path.split(myPath)}\\n\")"
   ]
  },
  {
   "cell_type": "code",
   "execution_count": null,
   "id": "8833c911",
   "metadata": {},
   "outputs": [],
   "source": [
    "myPath = \"C:\\\\Users\\\\kubac\\\\Python_kurs\\\\paczka\\\\potęga.py\"\n",
    "#os.path.splitext(<path>)\n",
    "print(f\"os.path.splitext(myPath): {os.path.splitext(myPath)}\\n\")\n",
    "\n",
    "#os.path.exists(<path>)\n",
    "print(f\"os.path.exists(myPath): {os.path.exists(myPath)}\\n\")\n",
    "\n",
    "#os.path.getmtime(<path>)\n",
    "print(f\"os.path.getmtime(myPath): {os.path.getmtime(myPath)}\\n\")\n",
    "\n",
    "#os.path.getsize(<path>)\n",
    "print(f\"os.path.getsize(myPath): {os.path.getsize(myPath)}\\n\")"
   ]
  },
  {
   "cell_type": "markdown",
   "id": "registered-bicycle",
   "metadata": {},
   "source": [
    "## Podstawy programowania obiektowego"
   ]
  },
  {
   "cell_type": "markdown",
   "id": "d8f5304a",
   "metadata": {},
   "source": [
    "Programowanie obiektowe polega na rozbicie złożonego projektu na **obiekty**, reprezentujące pewne koncepty, a zachodzące procesy są **relacjami** pomiędzy obiektami.  \n",
    "Obiekty przechowują argumenty (zwane *atrybutami*) oraz funkcje (*metody*) pozwalające na manipulację przechowywanymi atrybutami i więcej."
   ]
  },
  {
   "cell_type": "code",
   "execution_count": null,
   "id": "heavy-incident",
   "metadata": {},
   "outputs": [],
   "source": [
    "help(str)"
   ]
  },
  {
   "cell_type": "code",
   "execution_count": null,
   "id": "99eb7f11",
   "metadata": {
    "scrolled": true
   },
   "outputs": [],
   "source": [
    "class name_of_class:\n",
    "    \n",
    "    def __init__(self, variable):\n",
    "        self.argument = variable\n",
    "        \n",
    "    def say_hello(self):\n",
    "        print(f\"Hello. My argument is {self.argument}\")\n",
    "        \n",
    "a_variable = name_of_class(1000)\n",
    "print(a_variable.argument)\n",
    "a_variable.say_hello()"
   ]
  },
  {
   "cell_type": "code",
   "execution_count": null,
   "id": "2e8e71a3",
   "metadata": {},
   "outputs": [],
   "source": [
    "class animal:\n",
    "    def __init__(self, name, color):\n",
    "        self.name = name\n",
    "        self.color = color      \n",
    "    def my_name_is(self):\n",
    "        print(f\"My name is {self.name}.\")\n",
    "    def speak(self):\n",
    "        print(\"*animal sound*\")\n",
    "    \n",
    "        \n",
    "##        \n",
    "class cat(animal):\n",
    "    def __init__(self, name, color, fav_fish):\n",
    "        super().__init__(name, color)\n",
    "        self.fav_fish = fav_fish\n",
    "    def food(self):\n",
    "        print(f\"My favourite fish is {self.fav_fish}.\")\n",
    "    def speak(self):\n",
    "        print(\"Meow.\")\n",
    "\n",
    "##        \n",
    "class dog(animal):\n",
    "    def __init__(self, name, color, fav_toy):\n",
    "        super().__init__(name, color)\n",
    "        self.fav_toy = fav_toy\n",
    "    def play(self):\n",
    "        print(f\"My favourite toy is {self.fav_toy}.\")\n",
    "    def speak(self):\n",
    "        print(\"Woof.\")\n",
    "        \n",
    "##\n",
    "an_animal = animal(\"Maurice\", \"Blue\")\n",
    "\n",
    "kitty = cat(\"Josh\", \"Orange\", \"salmon\")\n",
    "other_kitty = cat(\"Jade\", \"Black\", \"tuna\")\n",
    "\n",
    "doggy = dog(\"Jack\", \"Black\", \"a tennis ball\")\n",
    "another_doggy = dog(\"Princess\", \"White\", \"a shoe\")"
   ]
  },
  {
   "cell_type": "code",
   "execution_count": null,
   "id": "54ce77e3",
   "metadata": {},
   "outputs": [],
   "source": [
    "print(an_animal.name, an_animal.color)\n",
    "an_animal.my_name_is()\n",
    "an_animal.speak()"
   ]
  },
  {
   "cell_type": "code",
   "execution_count": null,
   "id": "019a8c4c",
   "metadata": {},
   "outputs": [],
   "source": [
    "print(kitty.name, kitty.color)\n",
    "kitty.my_name_is()\n",
    "kitty.speak()\n",
    "\n",
    "kitty.food()"
   ]
  },
  {
   "cell_type": "code",
   "execution_count": null,
   "id": "0f2ddefd",
   "metadata": {},
   "outputs": [],
   "source": [
    "print(doggy.name, doggy.color)\n",
    "doggy.my_name_is()\n",
    "doggy.speak()\n",
    "\n",
    "doggy.play()"
   ]
  },
  {
   "cell_type": "code",
   "execution_count": null,
   "id": "61ed43cb",
   "metadata": {},
   "outputs": [],
   "source": [
    "print(another_doggy.name, another_doggy.color)\n",
    "another_doggy.my_name_is()\n",
    "another_doggy.speak()\n",
    "\n",
    "another_doggy.play()"
   ]
  },
  {
   "cell_type": "markdown",
   "id": "fdf94277",
   "metadata": {},
   "source": [
    "## Extras"
   ]
  },
  {
   "cell_type": "markdown",
   "id": "900a71ac",
   "metadata": {},
   "source": [
    "### Reserved keywords in Python\n",
    "<a id='another_cell'></a>  \n",
    "\n",
    "|  Keyword |                          Description                         |\n",
    "|:--------:|:------------------------------------------------------------:|\n",
    "|    and   |                      A logical operator                      |\n",
    "|    as    |                      To create an alias                      |\n",
    "|  assert  |                         For debugging                        |\n",
    "|   break  |                    To break out of a loop                    |\n",
    "|   class  |                       To define a class                      |\n",
    "| continue |          To continue to the next iteration of a loop         |\n",
    "|    def   |                     To define a function                     |\n",
    "|    del   |                      to delete an object                     |\n",
    "|   elif   |        Used in conditional statements, same as else if       |\n",
    "|   else   |                Used in conditional statements                |\n",
    "|  except  |   Used with exceptions, what to do when an exception occurs  |\n",
    "|   False  |        Boolean value, result of comparison operations        |\n",
    "|  finally | Used with exceptions, block of code that will always execute |\n",
    "|    for   |                     To create a for loop                     |\n",
    "|   from   |             To import specific parts of a module             |\n",
    "|  global  |                 To declare a global variable                 |\n",
    "|    if    |                To make a conditional statement               |\n",
    "|  import  |                      To import a module                      |\n",
    "|    in    |          To check if a value is present in an object         |\n",
    "|  lambda  |                To create an anonymous function               |\n",
    "|   None   |                    Represents a null value                   |\n",
    "| nonlocal |                To declare a non-local variable               |\n",
    "|    not   |                      A logical operator                      |\n",
    "|    or    |                      A logical operator                      |\n",
    "|   pass   |      A null statement, a statement that will do nothing      |\n",
    "|   raise  |                     To raise an exception                    |\n",
    "|  return  |             To exit a function and return a value            |\n",
    "|   True   |        Boolean value, result of comparison operations        |\n",
    "|    try   |               To make a try...except statement               |\n",
    "|   while  |                    To create a while loop                    |\n",
    "|   with   |              Used to simplify exception handling             |\n",
    "|   yield  |             To end a function, return a generator            |\n",
    "\n",
    "Source: https://www.w3schools.com/python/python_ref_keywords.asp"
   ]
  },
  {
   "cell_type": "markdown",
   "id": "challenging-triple",
   "metadata": {},
   "source": [
    "### Exception hierarchy\n",
    "<a id='exception_hierarchy'></a> "
   ]
  },
  {
   "cell_type": "code",
   "execution_count": null,
   "id": "moving-graph",
   "metadata": {},
   "outputs": [],
   "source": [
    "BaseException\n",
    " +-- SystemExit\n",
    " +-- KeyboardInterrupt\n",
    " +-- GeneratorExit\n",
    " +-- Exception\n",
    "      +-- StopIteration\n",
    "      +-- StopAsyncIteration\n",
    "      +-- ArithmeticError\n",
    "      |    +-- FloatingPointError\n",
    "      |    +-- OverflowError\n",
    "      |    +-- ZeroDivisionError\n",
    "      +-- AssertionError\n",
    "      +-- AttributeError\n",
    "      +-- BufferError\n",
    "      +-- EOFError\n",
    "      +-- ImportError\n",
    "      |    +-- ModuleNotFoundError\n",
    "      +-- LookupError\n",
    "      |    +-- IndexError\n",
    "      |    +-- KeyError\n",
    "      +-- MemoryError\n",
    "      +-- NameError\n",
    "      |    +-- UnboundLocalError\n",
    "      +-- OSError\n",
    "      |    +-- BlockingIOError\n",
    "      |    +-- ChildProcessError\n",
    "      |    +-- ConnectionError\n",
    "      |    |    +-- BrokenPipeError\n",
    "      |    |    +-- ConnectionAbortedError\n",
    "      |    |    +-- ConnectionRefusedError\n",
    "      |    |    +-- ConnectionResetError\n",
    "      |    +-- FileExistsError\n",
    "      |    +-- FileNotFoundError\n",
    "      |    +-- InterruptedError\n",
    "      |    +-- IsADirectoryError\n",
    "      |    +-- NotADirectoryError\n",
    "      |    +-- PermissionError\n",
    "      |    +-- ProcessLookupError\n",
    "      |    +-- TimeoutError\n",
    "      +-- ReferenceError\n",
    "      +-- RuntimeError\n",
    "      |    +-- NotImplementedError\n",
    "      |    +-- RecursionError\n",
    "      +-- SyntaxError\n",
    "      |    +-- IndentationError\n",
    "      |         +-- TabError\n",
    "      +-- SystemError\n",
    "      +-- TypeError\n",
    "      +-- ValueError\n",
    "      |    +-- UnicodeError\n",
    "      |         +-- UnicodeDecodeError\n",
    "      |         +-- UnicodeEncodeError\n",
    "      |         +-- UnicodeTranslateError\n",
    "      +-- Warning\n",
    "           +-- DeprecationWarning\n",
    "           +-- PendingDeprecationWarning\n",
    "           +-- RuntimeWarning\n",
    "           +-- SyntaxWarning\n",
    "           +-- UserWarning\n",
    "           +-- FutureWarning\n",
    "           +-- ImportWarning\n",
    "           +-- UnicodeWarning\n",
    "           +-- BytesWarning\n",
    "           +-- ResourceWarning"
   ]
  },
  {
   "cell_type": "markdown",
   "id": "cognitive-omega",
   "metadata": {},
   "source": [
    "Source: https://docs.python.org/3/library/exceptions.html#exception-hierarchy"
   ]
  },
  {
   "cell_type": "markdown",
   "id": "714d17c8",
   "metadata": {},
   "source": [
    "## Common Python special methods\n",
    "\n",
    "|      Method      |              Description             | Example |\n",
    "|:----------------:|:------------------------------------:|:-------:|\n",
    "|    \\_\\_add\\_\\_   | +, addition                          |  x + y  |\n",
    "|    \\_\\_sub\\_\\_   | -, subtraction                       |  x - y  |\n",
    "|    \\_\\_mul\\_\\_   | *, multiplication                    |  x * y  |\n",
    "|  \\_\\_truediv\\_\\_ | /, \"true\" division                   |  x / y  |\n",
    "| \\_\\_floordiv\\_\\_ | //, floor division                   |  x // y |\n",
    "|    \\_\\_mod\\_\\_   | %, modulus                           |  x % y  |\n",
    "|    \\_\\_pow\\_\\_   | \\*\\*, exponentiation                   |  x \\*\\* y |\n",
    "|    \\_\\_neg\\_\\_   | negation (unary minus)               |    -x   |\n",
    "|  \\_\\_matmul\\_\\_  | @, matrix multiplication             |  x @ y  |\n",
    "|    \\_\\_abs\\_\\_   | absolute value                       |  abs(x) |\n",
    "| \\_\\_contains\\_\\_ | membership                           |  y in x |\n",
    "|    \\_\\_lt\\_\\_    | less than                            |  y < x  |\n",
    "|    \\_\\_le\\_\\_    | less than or equal to                |  y <= x |\n",
    "|    \\_\\_eq\\_\\_    | equal to                             |  y == x |\n",
    "|    \\_\\_ne\\_\\_    | not equal to                         |  y != x |\n",
    "|    \\_\\_gt\\_\\_    | greater than                         |  y > x  |\n",
    "|    \\_\\_ge\\_\\_    | greater than or equal to             |  y >= x |\n",
    "|    \\_\\_str\\_\\_   | human-readable string representation |  str(x) |\n",
    "|   \\_\\_repr\\_\\_   | unambiguous string representation    | repr(x) |\n"
   ]
  },
  {
   "cell_type": "markdown",
   "id": "altered-greenhouse",
   "metadata": {},
   "source": [
    "# Bibliografia\n",
    "\n",
    "- Hill, C. (2020). Learning Scientific Programming with Python (2nd ed.). Cambridge University Press.  \n",
    "- Python 3.9.4 Documentation. (2021). Python 3.9.4 Documentation. https://docs.python.org/3/  \n",
    "- Python, R. (2021). Real Python Tutorials. Real Python. https://realpython.com/\n"
   ]
  }
 ],
 "metadata": {
  "kernelspec": {
   "display_name": "Python 3",
   "language": "python",
   "name": "python3"
  },
  "language_info": {
   "codemirror_mode": {
    "name": "ipython",
    "version": 3
   },
   "file_extension": ".py",
   "mimetype": "text/x-python",
   "name": "python",
   "nbconvert_exporter": "python",
   "pygments_lexer": "ipython3",
   "version": "3.8.8"
  }
 },
 "nbformat": 4,
 "nbformat_minor": 5
}
