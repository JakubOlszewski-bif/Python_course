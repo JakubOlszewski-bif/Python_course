{
 "cells": [
  {
   "cell_type": "markdown",
   "id": "human-convertible",
   "metadata": {},
   "source": [
    "<center><h1>Basics of Python (3.9)</h1></center>\n",
    "\n",
    "<center><h5><em>Prepared by: Jakub Olszewski</em></h5></center>"
   ]
  },
  {
   "cell_type": "markdown",
   "id": "hazardous-graphic",
   "metadata": {},
   "source": [
    "## Errors and Exceptions\n",
    "\n",
    "In Python there are 2 main types of errors:  \n",
    "    - `SyntaxError` - mistakes in grammar intercepted by the interpreter **before** the program is actually run. It **always** stops the execution of program;  \n",
    "    - `Exception` - errors in a gramaticly corret code caused by an invalid operation **during** the execution of the program. Depending on the exception, it can stop the execution of the program. \n"
   ]
  },
  {
   "cell_type": "markdown",
   "id": "enabling-court",
   "metadata": {},
   "source": [
    "### `SyntaxError`  "
   ]
  },
  {
   "cell_type": "code",
   "execution_count": null,
   "id": "original-column",
   "metadata": {},
   "outputs": [],
   "source": [
    "for lambda in range(5):"
   ]
  },
  {
   "cell_type": "markdown",
   "id": "f103dcae",
   "metadata": {},
   "source": [
    "[Table of reserved keywords in Python](#another_cell)\n",
    "<a id='keywords_link'></a>"
   ]
  },
  {
   "cell_type": "code",
   "execution_count": null,
   "id": "ignored-casting",
   "metadata": {
    "scrolled": true
   },
   "outputs": [],
   "source": [
    "'variable' = 1"
   ]
  },
  {
   "cell_type": "code",
   "execution_count": null,
   "id": "opposite-trunk",
   "metadata": {},
   "outputs": [],
   "source": [
    "print(123) = 123"
   ]
  },
  {
   "cell_type": "code",
   "execution_count": null,
   "id": "classified-large",
   "metadata": {
    "scrolled": true
   },
   "outputs": [],
   "source": [
    "print(1234"
   ]
  },
  {
   "cell_type": "code",
   "execution_count": null,
   "id": "announced-notion",
   "metadata": {
    "scrolled": true
   },
   "outputs": [],
   "source": [
    "a_list = [1,2,3,4] \n",
    " for number in a_list:\n",
    "        print(a_list)"
   ]
  },
  {
   "cell_type": "markdown",
   "id": "swiss-identifier",
   "metadata": {},
   "source": [
    "A different type of syntax error can be an infinite loop:"
   ]
  },
  {
   "cell_type": "code",
   "execution_count": null,
   "id": "fatal-miracle",
   "metadata": {},
   "outputs": [],
   "source": [
    "x = 1\n",
    "y = 2\n",
    "while x > 0:\n",
    "    print(f\"condition x={x} > 0: \", x > 0)\n",
    "    y += 1\n",
    "    print(y)"
   ]
  },
  {
   "cell_type": "markdown",
   "id": "swiss-phoenix",
   "metadata": {},
   "source": [
    "### `Exceptions`\n",
    "\n",
    "Exceptions occur when a syntaticly correct code causes a `runtime error` - an error encountered during the exectution of the program.  \n",
    "The Python interpreter has built-in mechanisims for catching different types of exceptions, and always produces a `stack traceback` - a history of events that led to an exception being raised."
   ]
  },
  {
   "cell_type": "code",
   "execution_count": null,
   "id": "double-conspiracy",
   "metadata": {
    "scrolled": false
   },
   "outputs": [],
   "source": [
    "open(\"a_non_existent_file.txt\", \"r\")"
   ]
  },
  {
   "cell_type": "code",
   "execution_count": null,
   "id": "recent-moscow",
   "metadata": {
    "scrolled": false
   },
   "outputs": [],
   "source": [
    "a_list = [0,1,2] # 3 arguments\n",
    "a_list[10]       # 9th argument"
   ]
  },
  {
   "cell_type": "code",
   "execution_count": null,
   "id": "arabic-lincoln",
   "metadata": {
    "scrolled": false
   },
   "outputs": [],
   "source": [
    "a_dictionary = {'one' : 1, 'two' : 2, 'three' : 3}\n",
    "a_dictionary['four'] # a key that's not present in the dictionary"
   ]
  },
  {
   "cell_type": "code",
   "execution_count": null,
   "id": "black-neighborhood",
   "metadata": {
    "scrolled": true
   },
   "outputs": [],
   "source": [
    "print(a_non_existent_variable)"
   ]
  },
  {
   "cell_type": "code",
   "execution_count": null,
   "id": "flush-shooting",
   "metadata": {
    "scrolled": false
   },
   "outputs": [],
   "source": [
    "\"you can't multiply a string\" * 'with another string'"
   ]
  },
  {
   "cell_type": "code",
   "execution_count": null,
   "id": "listed-dependence",
   "metadata": {
    "scrolled": true
   },
   "outputs": [],
   "source": [
    "print(   int('7.0')   )"
   ]
  },
  {
   "cell_type": "code",
   "execution_count": null,
   "id": "undefined-majority",
   "metadata": {
    "scrolled": false
   },
   "outputs": [],
   "source": [
    "print(        float('7.0')   )\n",
    "print(    int(float('7.0'))  )"
   ]
  },
  {
   "cell_type": "code",
   "execution_count": null,
   "id": "direct-hammer",
   "metadata": {
    "scrolled": false
   },
   "outputs": [],
   "source": [
    "10 / 0"
   ]
  },
  {
   "cell_type": "markdown",
   "id": "overall-billion",
   "metadata": {},
   "source": [
    "Stack Traceback is especially usefull when we're dealing with complex projects:"
   ]
  },
  {
   "cell_type": "code",
   "execution_count": null,
   "id": "cubic-dayton",
   "metadata": {
    "scrolled": false
   },
   "outputs": [],
   "source": [
    "def inner_function(y):\n",
    "    y = 1 / y\n",
    "    return y\n",
    "\n",
    "def outer_function(x):\n",
    "    x = x-1\n",
    "    return inner_function(x)\n",
    "\n",
    "x = 1\n",
    "outer_function(x)"
   ]
  },
  {
   "cell_type": "markdown",
   "id": "communist-angle",
   "metadata": {},
   "source": [
    "[Exception hierarchy](#exception_hierarchy)\n",
    "<a id='exception_link'></a> "
   ]
  },
  {
   "cell_type": "markdown",
   "id": "configured-programming",
   "metadata": {},
   "source": [
    "### Handling exceptions\n",
    "\n",
    "During the course of writing a program you might be _forced_ or you _expect_ to deal with data in a way that will cause an error. If that error is not a reason to stop the program altogether you can use `try...except` clause to specify what your program should do if an error occurs.  "
   ]
  },
  {
   "cell_type": "code",
   "execution_count": null,
   "id": "apparent-charm",
   "metadata": {},
   "outputs": [],
   "source": [
    "try:\n",
    "    a block of code that you expect could cause an error\n",
    "except an_error_to_be_handled:\n",
    "    a block of code to be executed IF the specified error was encoutered inside the try block\n",
    "except another_error:\n",
    "    a different block of code for a different error\n",
    "except (a_series_of_errors, yet_another_error, ...):\n",
    "    a block of code to be executed IF ONE of the specified errors was encountered inside the try block\n",
    "except:\n",
    "    this will except ALL ERRORS\n",
    "else:\n",
    "    a block of code that will execute AFTER the try block finishes without causing an error\n",
    "finally:\n",
    "    a block of code that will ALWAYS execute AFTER all the other blocks have finished"
   ]
  },
  {
   "cell_type": "code",
   "execution_count": null,
   "id": "correct-vegetation",
   "metadata": {},
   "outputs": [],
   "source": [
    "while True:\n",
    "    try:\n",
    "        print(\"Something\")\n",
    "    except Exception:\n",
    "        print(\"Oh no, an error.\")"
   ]
  },
  {
   "cell_type": "markdown",
   "id": "handmade-cosmetic",
   "metadata": {},
   "source": [
    "<h3><i><center>\"Easier to Ask Forgiveness than to seek Permission (EAFP)\"</center></i></h3>  \n",
    "<h3><center> vs. </center></h3>  \n",
    "<h3><i><center>\"Look Before You Leap (LBYL)\"</center></i></h3> "
   ]
  },
  {
   "cell_type": "code",
   "execution_count": null,
   "id": "taken-worthy",
   "metadata": {},
   "outputs": [],
   "source": [
    "#EAFP\n",
    "def oneOverY(y):\n",
    "    try:\n",
    "        y = 1 / y\n",
    "    except ZeroDivisionError:\n",
    "        return \"You can't divide by 0\"\n",
    "    except TypeError:\n",
    "        return \"Please insert a number (float or interger)\"\n",
    "    return y\n",
    "\n",
    "print(\"1 / 10  = \",   oneOverY(10)   )\n",
    "print(\"1 / 0   = \",   oneOverY(0)    )\n",
    "print(\"1 /'a'  = \",   oneOverY(\"a\")  )"
   ]
  },
  {
   "cell_type": "code",
   "execution_count": null,
   "id": "traditional-virgin",
   "metadata": {
    "scrolled": false
   },
   "outputs": [],
   "source": [
    "#LBYL\n",
    "def oneOverY_v2(y):\n",
    "    if isinstance(y, int) or isinstance(y, float):\n",
    "        if y != 0:\n",
    "            y = 1 / y\n",
    "            return y\n",
    "        else:\n",
    "            return \"You can't divide by 0\"\n",
    "    else:\n",
    "        return \"Please insert a number (float or interger)\"\n",
    "    \n",
    "print(\"1 / 20  = \",   oneOverY_v2(20)   )\n",
    "print(\"1 / 0   = \",   oneOverY_v2(0)    )\n",
    "print(\"1 /'b'  = \",   oneOverY_v2(\"b\")  )"
   ]
  },
  {
   "cell_type": "markdown",
   "id": "sorted-march",
   "metadata": {},
   "source": [
    "Efficiency of `try...except` vs. `if...else`:"
   ]
  },
  {
   "cell_type": "code",
   "execution_count": null,
   "id": "widespread-substitute",
   "metadata": {
    "scrolled": true
   },
   "outputs": [],
   "source": [
    "import timeit\n",
    "\n",
    "print(\"No error handling:      \", timeit.timeit(setup=\"a=1;b=1\", stmt=\"a/b\")) \n",
    "\n",
    "print(\"try...except, no error: \", timeit.timeit(setup=\"a=1;b=1\", stmt=\"try:\\n a/b\\nexcept ZeroDivisionError:\\n pass\"))\n",
    "print(\"try...except, w/ error: \", timeit.timeit(setup=\"a=1;b=0\", stmt=\"try:\\n a/b\\nexcept ZeroDivisionError:\\n pass\"))\n",
    "\n",
    "print(\"if...else, no error:    \", timeit.timeit(setup=\"a=1;b=1\", stmt=\"if b!=0:\\n a/b\"))\n",
    "print(\"if...else, w/ error:    \", timeit.timeit(setup=\"a=1;b=0\", stmt=\"if b!=0:\\n a/b\"))"
   ]
  },
  {
   "cell_type": "markdown",
   "id": "respected-indonesian",
   "metadata": {},
   "source": [
    "Source: https://stackoverflow.com/a/1835844/14162275"
   ]
  },
  {
   "cell_type": "markdown",
   "id": "occupational-flour",
   "metadata": {},
   "source": [
    "Python allows for a manual rasing of exceptions using the `raise` function:"
   ]
  },
  {
   "cell_type": "code",
   "execution_count": null,
   "id": "close-judgment",
   "metadata": {},
   "outputs": [],
   "source": [
    "def oneOverY_v3(y):\n",
    "    \"\"\" Divide 1 by y if y is an even number. \"\"\"\n",
    "    try:\n",
    "        if y%2:\n",
    "            raise ValueError\n",
    "        y = 1 / y\n",
    "    except ValueError:\n",
    "        return \"y must be an even number\"\n",
    "    except ZeroDivisionError:\n",
    "        return \"You can't divide by 0\"\n",
    "    except TypeError:\n",
    "        return \"Please insert a number (float or interger)\"\n",
    "    return y\n",
    "\n",
    "print(\"1 / 8   = \",   oneOverY_v3(8)    )\n",
    "print(\"1 / 3   = \",   oneOverY_v3(3)    )\n",
    "print(\"1 / 0   = \",   oneOverY_v3(0)    )\n",
    "print(\"1 /'a'  = \",   oneOverY_v3(\"a\")  )"
   ]
  },
  {
   "cell_type": "markdown",
   "id": "logical-suite",
   "metadata": {},
   "source": [
    "A simmilar function - `assert <condition>`, allows for rasing an `AssertionError` if the provided condition isn't `True`:"
   ]
  },
  {
   "cell_type": "code",
   "execution_count": null,
   "id": "handed-assistant",
   "metadata": {
    "scrolled": true
   },
   "outputs": [],
   "source": [
    "assert 2 == 2, \"2 is equal to 2, so this error message won't be shown\"\n",
    "print(\"Finished\")"
   ]
  },
  {
   "cell_type": "code",
   "execution_count": null,
   "id": "greenhouse-prisoner",
   "metadata": {
    "scrolled": true
   },
   "outputs": [],
   "source": [
    "assert 1 == 2, \"1 is not equal to 2, so the condition returns False\"\n",
    "print(\"Finished\")"
   ]
  },
  {
   "cell_type": "code",
   "execution_count": null,
   "id": "trying-fantasy",
   "metadata": {},
   "outputs": [],
   "source": [
    "def cross_product(a ,b):\n",
    "    \"\"\" Calculate the cross product of two 3-dimentional vectors. \"\"\"\n",
    "    assert len(a) == len(b) == 3, \"Vectors a and b must be 3-dimentional\"\n",
    "    return [a[1]*b[2] - a[2]*b[1],\n",
    "            a[2]*b[0] - a[0]*b[2],\n",
    "            a[0]*b[1] - a[1]*b[0]]\n",
    "\n",
    "a = [1,2,3]\n",
    "b = [4,5,6]\n",
    "print(\"a × b = \", cross_product(a,b))"
   ]
  },
  {
   "cell_type": "code",
   "execution_count": null,
   "id": "radical-paraguay",
   "metadata": {
    "scrolled": true
   },
   "outputs": [],
   "source": [
    "a = [1,2,3,4]\n",
    "b = [5,6,7]\n",
    "print(\"a × b = \", cross_product(a,b))   "
   ]
  },
  {
   "cell_type": "markdown",
   "id": "modular-pioneer",
   "metadata": {},
   "source": [
    "`raise` and `assert` are pretty simmilar in function. The main difference comes when we run a program through a command line - we can use a `-0` flag to turn off all **assertions**. "
   ]
  },
  {
   "cell_type": "code",
   "execution_count": null,
   "id": "rocky-liver",
   "metadata": {
    "scrolled": false
   },
   "outputs": [],
   "source": [
    "...\n",
    "try:\n",
    "    assert y%2\n",
    "    y = 1 / t\n",
    "except AssertionError:\n",
    "    return \"y must be an even number\"\n",
    "..."
   ]
  },
  {
   "cell_type": "markdown",
   "id": "aware-omaha",
   "metadata": {},
   "source": [
    "## Lists, sets and dictionaries\n",
    "\n",
    "Python offers multiple data structures. The main three are:\n",
    "- **List**  \\[`list`\\] - the most versatile structure. It's a **mutable** series of **any** arguments;  \n",
    "- **Set**  ({`set`}) - a mutable series of **unique** and **hashable** arguments;  \n",
    "- **Dictionaries**  {`dict`} - a mutable series of `key: value` pairs, where the `key` must be an argument that's **unique** and **hashable**.  \n"
   ]
  },
  {
   "cell_type": "markdown",
   "id": "preceding-azerbaijan",
   "metadata": {},
   "source": [
    "### Hash\n",
    "\n",
    "A function found in many programming languages, used for assigning a short and easy to identify value that allows for quick access. In Python hash values are used by **sets** and **dictionaries**."
   ]
  },
  {
   "cell_type": "markdown",
   "id": "generous-least",
   "metadata": {},
   "source": [
    "![Hash function](https://upload.wikimedia.org/wikipedia/commons/5/58/Hash_table_4_1_1_0_0_1_0_LL.svg)"
   ]
  },
  {
   "cell_type": "code",
   "execution_count": null,
   "id": "overall-dressing",
   "metadata": {},
   "outputs": [],
   "source": [
    "name = \"John Smith\"\n",
    "print(f\"hash(name): {hash(name)}\")"
   ]
  },
  {
   "cell_type": "code",
   "execution_count": null,
   "id": "golden-nepal",
   "metadata": {},
   "outputs": [],
   "source": [
    "# Examples of hashable objects in Python\n",
    "a_string = 'content'\n",
    "print(f\"hash(a_string):   {hash(a_string)}\")\n",
    "\n",
    "an_integer = 1234\n",
    "print(f\"hash(an_integer): {hash(an_integer)}\")\n",
    "\n",
    "a_float = 1.234\n",
    "print(f\"hash(a_float):    {hash(a_float)}\")"
   ]
  },
  {
   "cell_type": "code",
   "execution_count": null,
   "id": "recreational-moore",
   "metadata": {
    "scrolled": true
   },
   "outputs": [],
   "source": [
    "# unhashable\n",
    "hash( [1,2,3] )"
   ]
  },
  {
   "cell_type": "code",
   "execution_count": null,
   "id": "greek-flight",
   "metadata": {},
   "outputs": [],
   "source": [
    "a = [1.1,2.2,3.3]\n",
    "for i in a:\n",
    "    print(hash(i))"
   ]
  },
  {
   "cell_type": "code",
   "execution_count": null,
   "id": "current-jungle",
   "metadata": {
    "scrolled": true
   },
   "outputs": [],
   "source": [
    "# unhashable\n",
    "hash( ({1,2,3}) )"
   ]
  },
  {
   "cell_type": "code",
   "execution_count": null,
   "id": "burning-commander",
   "metadata": {
    "scrolled": true
   },
   "outputs": [],
   "source": [
    "# unhashable\n",
    "hash( {'a' : 1} )"
   ]
  },
  {
   "cell_type": "markdown",
   "id": "infinite-greece",
   "metadata": {},
   "source": [
    "### Lists\n",
    "\n",
    "Created by inserting arguments, separated by a comma `,`, inside of square brackets `[...]` or by passing an **iterable object** to a list contructor `list(<iterable object>)`."
   ]
  },
  {
   "cell_type": "code",
   "execution_count": null,
   "id": "integral-bennett",
   "metadata": {
    "scrolled": false
   },
   "outputs": [],
   "source": [
    "a_list = [1,2,\"three\",4.4,[5,6,7], ({8,9}), {10 : 'ten'}, lambda x: x + 1, (x for x in range(2))]\n",
    "print(f\"a_list : {a_list}\")"
   ]
  },
  {
   "cell_type": "code",
   "execution_count": null,
   "id": "mediterranean-graham",
   "metadata": {},
   "outputs": [],
   "source": [
    "a = [1,2,3]\n",
    "for argument in <an iterable object>:\n",
    "    p"
   ]
  },
  {
   "cell_type": "code",
   "execution_count": null,
   "id": "distributed-census",
   "metadata": {},
   "outputs": [],
   "source": [
    "other_list = list('12345678910')\n",
    "print(f\"other_list : {other_list}\\n\")\n",
    "\n",
    "other_list = list(range(1,11))\n",
    "print(f\"other_list : {other_list}\")"
   ]
  },
  {
   "cell_type": "code",
   "execution_count": null,
   "id": "renewable-ranking",
   "metadata": {},
   "outputs": [],
   "source": [
    "# Index:  0 1    2    3     4        5          6\n",
    "a_list = [1,2,\"three\",4.4,[5,6,7], ({8,9}), {10 : 'ten'}]\n",
    "# Rev:  -7 -6   -5    -4    -3       -2        -1  \n",
    "print(f\"a_list[3]   = {a_list[3]}\\n\")\n",
    "print(f\"a_list[-1]  = {a_list[-1]}\\n\")\n",
    "print(f\"a_list[-3]  = {a_list[-3]}\")"
   ]
  },
  {
   "cell_type": "code",
   "execution_count": null,
   "id": "starting-understanding",
   "metadata": {
    "scrolled": true
   },
   "outputs": [],
   "source": [
    "a_list = [0,1,2,3,4,5,6,7,8,9,10]\n",
    "# a_list[ <from this index> : <to this index (but not including it)> : <step> ]\n",
    "print(f\"a_list[0:5] = {a_list[0:5]}\\n\")\n",
    "print(f\"a_list[3:]  = {a_list[3:]}\\n\")\n",
    "print(f\"a_list[::2] = {a_list[::2]}\\n\")"
   ]
  },
  {
   "cell_type": "markdown",
   "id": "regular-words",
   "metadata": {},
   "source": [
    "#### `list` methods"
   ]
  },
  {
   "cell_type": "code",
   "execution_count": null,
   "id": "hundred-cliff",
   "metadata": {},
   "outputs": [],
   "source": [
    "a_list = [1,2,3]\n",
    "# Add at the end of the list\n",
    "print('a_list:', a_list)\n",
    "a_list.append('element')\n",
    "print('a_list append:', a_list)"
   ]
  },
  {
   "cell_type": "code",
   "execution_count": null,
   "id": "accomplished-emphasis",
   "metadata": {},
   "outputs": [],
   "source": [
    "a_list = [1, 2, 3, 'element']\n",
    "various_args = [1,2,3, \"four\",[5,6,7], 8,9,{10 : 'ten'}]\n",
    "\n",
    "# Extend the list by arguments in the given iterable object\n",
    "various_args.extend('element')\n",
    "print('extend various_args:  ',various_args, '\\n')\n",
    "\n",
    "a_list.extend(['element', 'other element'])\n",
    "print('extend a_list:     ',a_list, '\\n')"
   ]
  },
  {
   "cell_type": "code",
   "execution_count": null,
   "id": "iraqi-drove",
   "metadata": {},
   "outputs": [],
   "source": [
    "a_list = [1, 2, 3, 'element', 'element', 'other element'] \n",
    "# Insert an argument at the given position\n",
    "a_list.insert(0, 'argument')\n",
    "print(\"insert: \", a_list, '\\n')"
   ]
  },
  {
   "cell_type": "code",
   "execution_count": null,
   "id": "liked-nature",
   "metadata": {
    "scrolled": true
   },
   "outputs": [],
   "source": [
    "a_list= [1, 'argument', 2, 3, 'element', 'element', 'other element']\n",
    "# Remove the first occurence of the given argument\n",
    "a_list.remove('element')\n",
    "print(\"remove: \", a_list)"
   ]
  },
  {
   "cell_type": "code",
   "execution_count": null,
   "id": "regulation-popularity",
   "metadata": {
    "scrolled": true
   },
   "outputs": [],
   "source": [
    "a_list = [1, 'argument', 2, 3, 'element', 'other element']\n",
    "# Return and remove the argument at the given position (default is the last one)\n",
    "print('pop() returns: ', a_list.pop())\n",
    "print(\"a_list  : \", a_list, '\\n')\n",
    "print('pop(1) returns: ', a_list.pop(1))\n",
    "print(\"a_list : \", a_list)"
   ]
  },
  {
   "cell_type": "code",
   "execution_count": null,
   "id": "desirable-helicopter",
   "metadata": {},
   "outputs": [],
   "source": [
    "various_args = [1,2,3, \"four\",[5,6,7], 8,9,{10 : 'ten'}]\n",
    "# Clear the entire list\n",
    "various_args.clear()\n",
    "print('various_args: ', various_args)"
   ]
  },
  {
   "cell_type": "code",
   "execution_count": null,
   "id": "final-messenger",
   "metadata": {
    "scrolled": true
   },
   "outputs": [],
   "source": [
    "a_list = [1, 2, 3, 'element', 'element', 'other element']\n",
    "# Return the index of the first occurence of the given argument (if it's in the list)\n",
    "print('index(\"element\"): ',a_list.index('element'))\n",
    "print('a_list:           ', a_list)"
   ]
  },
  {
   "cell_type": "code",
   "execution_count": null,
   "id": "potential-criticism",
   "metadata": {},
   "outputs": [],
   "source": [
    "# Return the number of occurences of the given argument in the list\n",
    "multi_args = [5,10,2,4,1,1,1,2,2,1,1,1,3,1,3,5]\n",
    "print('multi_args.count(1): ', multi_args.count(1))"
   ]
  },
  {
   "cell_type": "code",
   "execution_count": null,
   "id": "joined-silver",
   "metadata": {
    "scrolled": true
   },
   "outputs": [],
   "source": [
    "multi_args = [5,10,2,4,1,1,1,2,2,1,1,1,3,1,3,5]\n",
    "# Sort the arguments in the list (defalut order is ascending)\n",
    "print('multi_args before sort:              ', multi_args)\n",
    "multi_args.sort()\n",
    "print('multi_args after sort:               ', multi_args)\n",
    "multi_args.sort(reverse= True)\n",
    "print('multi_args after sort(reverse=True): ', multi_args, '\\n')"
   ]
  },
  {
   "cell_type": "markdown",
   "id": "b7cce521",
   "metadata": {},
   "source": [
    "[Python's default sorting algorithm - Timsort](https://en.wikipedia.org/wiki/Timsort)"
   ]
  },
  {
   "cell_type": "code",
   "execution_count": null,
   "id": "handled-concert",
   "metadata": {
    "scrolled": true
   },
   "outputs": [],
   "source": [
    "multi_args = [10, 5, 5, 4, 3, 3, 2, 2, 2, 1, 1, 1, 1, 1, 1, 1]\n",
    "# Reverse the order of arguments in the list\n",
    "print('multi_args before reverse: ', multi_args)\n",
    "multi_args.reverse()\n",
    "print('multi_args after reverse:  ', multi_args, '\\n')"
   ]
  },
  {
   "cell_type": "code",
   "execution_count": null,
   "id": "vertical-valve",
   "metadata": {
    "scrolled": true
   },
   "outputs": [],
   "source": [
    "multi_args = [1, 1, 1, 1, 1, 1, 1, 2, 2, 2, 3, 3, 4, 5, 5, 10]\n",
    "# Return a copy of the list\n",
    "copy = multi_args.copy()\n",
    "print('copy:               ', copy)\n",
    "print('copy == multi_args: ', copy == multi_args,'\\n')\n",
    "print('id(copy) == id(multi_args): ', id(copy) == id(multi_args))"
   ]
  },
  {
   "cell_type": "code",
   "execution_count": null,
   "id": "thermal-adoption",
   "metadata": {},
   "outputs": [],
   "source": [
    "multi_args = [1, 1, 1, 1, 1, 1, 1, 2, 2, 2, 3, 3, 4, 5, 5, 10]\n",
    "print(multi_args)\n",
    "a = multi_args\n",
    "a.append(\"element\")\n",
    "print(a)\n",
    "print(multi_args)\n",
    "\n",
    "copy = multi_args.copy()\n",
    "copy.append(\"element\")\n",
    "print(\"copy:\", copy)\n",
    "print(\"multi args: \", multi_args)"
   ]
  },
  {
   "cell_type": "code",
   "execution_count": null,
   "id": "downtown-canada",
   "metadata": {},
   "outputs": [],
   "source": [
    "multi_args = [1, 1, 1, 1, 1, 1, 1, 2, 2, 2, 3, 3, 4, 5, 5, 10]\n",
    "# Remove an argument at the given position without returning it\n",
    "print('multi_args: ', multi_args)\n",
    "del multi_args[-1]\n",
    "print('multi_args: ', multi_args)"
   ]
  },
  {
   "cell_type": "markdown",
   "id": "magnetic-matthew",
   "metadata": {},
   "source": [
    "### Sets\n",
    "\n",
    "Set is created by inserting arguments, separated by a comma `,`, inside of two brackets (parentheses and curly) `({...})` or by passing an iterable object to a set constructor `set(<iterable object>)`."
   ]
  },
  {
   "cell_type": "code",
   "execution_count": null,
   "id": "premier-utility",
   "metadata": {
    "scrolled": false
   },
   "outputs": [],
   "source": [
    "# Creating a set\n",
    "a_set = ({1,2,3, 1,2,3})\n",
    "print('set ({}): ',a_set, '\\n')\n",
    "\n",
    "a_set = set([2,1,2,3,3,1])\n",
    "print('set()   : ',a_set, '\\n')\n",
    "   \n",
    "a_set = set(range(8,11))\n",
    "print('set set(an iterable):  ',a_set)\n",
    "# Sets aren't ordered\n",
    "a_set.add(1)\n",
    "print('set set(an iterable):  ',a_set, '\\n')\n",
    "\n",
    "a_set = set('iterable')\n",
    "print('set(\"iterable\"):  ',a_set, '\\n')"
   ]
  },
  {
   "cell_type": "code",
   "execution_count": null,
   "id": "intermediate-lithuania",
   "metadata": {},
   "outputs": [],
   "source": [
    "# set accepts only hashable objects\n",
    "a_set = ({1, 1.1, '\"string\"', (\"tuple\",\"tuple2\"), frozenset((['frozen set']))})\n",
    "print(\"Hashable objects in a_set: \", a_set)"
   ]
  },
  {
   "cell_type": "code",
   "execution_count": null,
   "id": "competitive-afternoon",
   "metadata": {},
   "outputs": [],
   "source": [
    "# sets are actually a better than lists when it comes to large series of arguments\n",
    "\n",
    "a_list = [i for i in range(10000)]\n",
    "a_set = set(a_list)\n",
    "\n",
    "from timeit import default_timer as timer\n",
    "\n",
    "start = timer()\n",
    "for i in range(10000):\n",
    "    a = i*2 in a_list\n",
    "end = timer()\n",
    "print(f\"Membership time for list : {end - start:.10f}\")\n",
    "\n",
    "start = timer()\n",
    "for i in range(10000):\n",
    "    a = i*2 in a_set\n",
    "end = timer()\n",
    "print(f\"Membership time for set  : {end - start:.10f}\")"
   ]
  },
  {
   "cell_type": "markdown",
   "id": "sunset-healthcare",
   "metadata": {},
   "source": [
    "### `set` methods"
   ]
  },
  {
   "cell_type": "code",
   "execution_count": null,
   "id": "dependent-interim",
   "metadata": {
    "scrolled": true
   },
   "outputs": [],
   "source": [
    "set_A = ({1,2,3,4,5,6,7})\n",
    "set_B = ({1,2,3,6})\n",
    "\n",
    "# Add element to set\n",
    "print(\"set_A:         \", set_A)\n",
    "set_A.add(10)\n",
    "print(\"set_A.add(10): \", set_A,'\\n')\n",
    "print(\"set_B:        \", set_B)\n",
    "set_B.add(5)\n",
    "print(\"set_B.add(5): \", set_B,'\\n')"
   ]
  },
  {
   "cell_type": "code",
   "execution_count": null,
   "id": "sealed-korea",
   "metadata": {},
   "outputs": [],
   "source": [
    "set_A = ({1,2,3,4,5,6,7})\n",
    "set_A[0]"
   ]
  },
  {
   "cell_type": "code",
   "execution_count": null,
   "id": "critical-brazilian",
   "metadata": {},
   "outputs": [],
   "source": [
    "set_A = ({1,2,3,4,5,6,7})\n",
    "set_B = ({1,2,3,6})\n",
    "\n",
    "# Return a difference of two sets as another set (A \\ B)\n",
    "print(\"A \\ B : \", set_A.difference(set_B))\n",
    "print(\"set_A : \", set_A, '\\n')\n",
    "\n",
    "# Remove arguments from the set that also exist in the assigned set\n",
    "print(\"set_A: \", set_A)\n",
    "set_A.difference_update(set_B)\n",
    "print(\"set_A.difference_update(set_B): \", set_A,'\\n')"
   ]
  },
  {
   "cell_type": "code",
   "execution_count": null,
   "id": "neither-webster",
   "metadata": {},
   "outputs": [],
   "source": [
    "set_A = ({1,2,3,4,5,6,7})\n",
    "set_B = ({1,2,3,6})\n",
    "\n",
    "#Return a union of two sets as another set (A ∪ B)\n",
    "print(\"A ∪ B: \", set_A.union(set_B))\n",
    "print(\"set_A : \", set_A, '\\n')\n",
    "\n",
    "# Add arguments of one set to another\n",
    "print(\"set_B: \", set_B)\n",
    "set_B.update(set_A)\n",
    "print(\"set_B.update(set_A): \", set_B,'\\n')"
   ]
  },
  {
   "cell_type": "code",
   "execution_count": null,
   "id": "subject-denver",
   "metadata": {
    "scrolled": true
   },
   "outputs": [],
   "source": [
    "set_A = ({1,2,3,4,5,6,7})\n",
    "set_B = ({1,2,3,6})\n",
    "\n",
    "# Return an intersection of two sets as anoter set (A ∩ B)\n",
    "print(\"A ∩ B: \", set_A.intersection(set_B),'\\n')\n",
    "\n",
    "# Remove arguments from the set that don't also exist in the assigned set\n",
    "print(\"set_A: \", set_A)\n",
    "set_A.intersection_update(set_B)\n",
    "print(\"set_A.intersection_update(set_B): \", set_A)"
   ]
  },
  {
   "cell_type": "code",
   "execution_count": null,
   "id": "exclusive-idaho",
   "metadata": {},
   "outputs": [],
   "source": [
    "set_A = ({1,2,3,4,5,6,7})\n",
    "set_B = ({1,2,3,6})\n",
    "\n",
    "# Return True if assigned sets are disjoint (they share no arguments)\n",
    "print(\"Sets A and B are disjoint: \", set_A.isdisjoint(set_B), '\\n')"
   ]
  },
  {
   "cell_type": "code",
   "execution_count": null,
   "id": "steady-logic",
   "metadata": {
    "scrolled": true
   },
   "outputs": [],
   "source": [
    "set_A = ({1,2,3,4,5,6,7})\n",
    "set_B = ({1,2,3,6})\n",
    "\n",
    "# Return True if the set is a subset of the assigned set (A ⊆ B, A ⊂ B)\n",
    "print(\"B ⊂ A: \", set_B.issubset(set_A))\n",
    "print(f\"set_B <= set_A: {set_B <= set_A}\")\n",
    "print(f\"set_B < set_A: {set_B < set_A}\\n\")\n",
    "\n",
    "# Return True if the set is a superset of the assigned set\n",
    "print(\"A ⊃ B: \", set_A.issuperset(set_B))\n",
    "print(f\"set_A >= set_B: {set_A >= set_B}\")\n",
    "print(f\"set_A > set_B: {set_A > set_B}\\n\")"
   ]
  },
  {
   "cell_type": "code",
   "execution_count": null,
   "id": "decimal-format",
   "metadata": {},
   "outputs": [],
   "source": [
    "set_A = ({1,2,3,4,5,6,7})\n",
    "set_B = ({1,2,3,6})\n",
    "set_C = ({10,11,12})\n",
    "# Return a symmetric difference of two sets as another set (A ∆ B)\n",
    "print(\"A ∆ B: \", set_A.symmetric_difference(set_B))\n",
    "print(f\"set_A ^ set_B ^ set_C: {set_A ^ set_B ^ set_C}\")"
   ]
  },
  {
   "cell_type": "code",
   "execution_count": null,
   "id": "conscious-customer",
   "metadata": {
    "scrolled": true
   },
   "outputs": [],
   "source": [
    "set_A = ({1,2,3,4,5,6,7})\n",
    "\n",
    "# Remove the given argument from set\n",
    "print(\"set_A: \", set_A)\n",
    "set_A.discard(1)\n",
    "print(\"set_A.discard(1): \", set_A,'\\n')\n",
    "set_A.discard(11111)"
   ]
  },
  {
   "cell_type": "code",
   "execution_count": null,
   "id": "animal-orange",
   "metadata": {
    "scrolled": true
   },
   "outputs": [],
   "source": [
    "set_A = ({1,2,3,4,5,6,7})\n",
    "\n",
    "# Remove the given argument from set, if it doesn't exist - raise KeyError\n",
    "print(\"set_A: \", set_A)\n",
    "set_A.remove(7)\n",
    "print(\"set_A.remove(7): \", set_A,'\\n')"
   ]
  },
  {
   "cell_type": "code",
   "execution_count": null,
   "id": "specific-airline",
   "metadata": {},
   "outputs": [],
   "source": [
    "set_A = ({1,2,3,4,5,6,7})\n",
    "\n",
    "# Remove the given argument from set, if it doesn't exist - raise KeyError\n",
    "print(\"set_A: \", set_A)\n",
    "set_A.remove(1111)\n",
    "print(\"set_A.remove(7): \", set_A,'\\n')"
   ]
  },
  {
   "cell_type": "code",
   "execution_count": null,
   "id": "measured-kernel",
   "metadata": {},
   "outputs": [],
   "source": [
    "set_A = ({1,2,3,4,5,6,7})\n",
    "\n",
    "# Return and remove the first element from the set\n",
    "print(\"set_A: \", set_A)\n",
    "print(\"set_A.pop(): \", set_A.pop())\n",
    "print(\"set_A after pop: \", set_A,'\\n')"
   ]
  },
  {
   "cell_type": "code",
   "execution_count": null,
   "id": "national-married",
   "metadata": {
    "scrolled": true
   },
   "outputs": [],
   "source": [
    "set_A = ({1,2,3,4,5,6,7})\n",
    "\n",
    "# Clear the entire set\n",
    "set_A.clear()\n",
    "print(\"set_A: \", set_A)"
   ]
  },
  {
   "cell_type": "code",
   "execution_count": null,
   "id": "statewide-temple",
   "metadata": {},
   "outputs": [],
   "source": [
    "a_list = [1,1,2,3,4,2,3,4]\n",
    "\n",
    "a_set = set(a_list)\n",
    "print(a_set)"
   ]
  },
  {
   "cell_type": "markdown",
   "id": "accepted-share",
   "metadata": {},
   "source": [
    "### Dictionaries\n",
    "\n",
    "Dictionaries are created by inserting `key: value` pairs, separated by a comma `,`, inside of curly brackets `{...}` or by passing `(key, value)` pairs in an iterable object to a dictionary constructor `dict(<iterable object>)`."
   ]
  },
  {
   "cell_type": "code",
   "execution_count": null,
   "id": "female-jerusalem",
   "metadata": {
    "scrolled": false
   },
   "outputs": [],
   "source": [
    "a_dict = {'a' : 1, 'b' : 2}\n",
    "print('a_dict: ',a_dict)\n",
    "a_dict = dict((('a', 1), ('b', 2)))\n",
    "print('a_dict: ',a_dict, '\\n')"
   ]
  },
  {
   "cell_type": "code",
   "execution_count": null,
   "id": "complex-schedule",
   "metadata": {},
   "outputs": [],
   "source": [
    "def an_iterable(x):\n",
    "    # Numbers from x to 5 as pairs (str(x),x)\n",
    "    while x <= 5:\n",
    "        yield (str(x),x)\n",
    "        x += 1\n",
    "\n",
    "a_dict_gen = dict(an_iterable(1))\n",
    "print('a_dict: ',a_dict_gen, '\\n')\n",
    "\n",
    "a_dict = {'a' : 1, 'b' : 2}\n",
    "\n",
    "# Adding a new (key: value) pair to the dictionary\n",
    "a_dict['c'] = 3\n",
    "print('a_dict: ',a_dict, '\\n')\n",
    "\n",
    "# Updating the value of a key that already exists in the dictionary\n",
    "a_dict['a'] = 4\n",
    "print('a_dict: ',a_dict, '\\n')"
   ]
  },
  {
   "cell_type": "code",
   "execution_count": null,
   "id": "legislative-confirmation",
   "metadata": {},
   "outputs": [],
   "source": [
    "# Example of an object\n",
    "class an_object:\n",
    "    def __init__(self, argument):\n",
    "        self.argument = argument\n",
    "    def __str__(self):\n",
    "        return f\"Object with an argument: {self.argument}\"\n",
    "\n",
    "# You can assign pretty much anything as a value\n",
    "dict_example = {'integer'   : 1,\n",
    "                'float'     : 1.1,\n",
    "                'string'    : 'tekst',\n",
    "                'list'      : [1,2,3],\n",
    "                'set'       : ({10,20,30}),\n",
    "                'dictionary': {'a': 1, 'b': 2},\n",
    "                'an object' : an_object('Some value')}\n",
    "\n",
    "# Visualization\n",
    "print(f\"{'Key':>10} : {'Value':<10}\\n{'-'*24}\")\n",
    "for a_key in dict_example:\n",
    "    print(f\"{a_key:>10} : {str(dict_example[a_key]):<10}\")"
   ]
  },
  {
   "cell_type": "code",
   "execution_count": null,
   "id": "arctic-roommate",
   "metadata": {
    "scrolled": false
   },
   "outputs": [],
   "source": [
    "objectInVar = an_object(\"Value\")\n",
    "\n",
    "# Keys are a bit more complicated than their values\n",
    "dict_key_examples = {1      : 'integer',\n",
    "                     1.1    : 'float',\n",
    "                    'tekst' : 'string',\n",
    "                    (1,2,3) : 'tuple',\n",
    "      frozenset((10,20,30)) : 'frozen set',\n",
    "          (('a',1),('b',2)) : '\"dictionary\"',\n",
    "                objectInVar : 'an_object'}\n",
    "\n",
    "# Visualization\n",
    "print(f\"{'Key':>30} : {'Value':<30}\\n{'-'*60}\")\n",
    "for a_key in dict_key_examples:\n",
    "    print(f\"{str(a_key):>30} : {str(dict_key_examples[a_key]):<30}\")\n",
    "\n",
    "# Convert into a proper dictionary\n",
    "pseudoDict = list(dict_key_examples.keys())[5]\n",
    "\n",
    "print('\\n', pseudoDict, \"into a proper dict\", dict(pseudoDict))"
   ]
  },
  {
   "cell_type": "markdown",
   "id": "crude-spider",
   "metadata": {},
   "source": [
    "### `dict` methods"
   ]
  },
  {
   "cell_type": "code",
   "execution_count": null,
   "id": "married-sensitivity",
   "metadata": {},
   "outputs": [],
   "source": [
    "a_dict = {'a' : 1, 'b' : ['alpha','beta'], 'c' : 3.14}\n",
    "print(f\"a_dict: {a_dict}\")"
   ]
  },
  {
   "cell_type": "code",
   "execution_count": null,
   "id": "interpreted-emperor",
   "metadata": {
    "scrolled": false
   },
   "outputs": [],
   "source": [
    "# Create a dictionary with given keys and assign them all the given value\n",
    "new_dict = dict.fromkeys(('key','key2'), 10)\n",
    "print(f\"new_dict: {new_dict}\")"
   ]
  },
  {
   "cell_type": "code",
   "execution_count": null,
   "id": "vanilla-thursday",
   "metadata": {},
   "outputs": [],
   "source": [
    "a_dict = {'a' : 1, 'b' : ['alpha','beta'], 'c' : 3.14}\n",
    "# Return a value assigned to the given key (same as dictionary[key])\n",
    "print(f\"a_dict.get('a'):         {a_dict.get('a')}\")\n",
    "print(f\"a_dict.get('notInDict'): {a_dict.get('notInDict')}\")"
   ]
  },
  {
   "cell_type": "code",
   "execution_count": null,
   "id": "latter-pierce",
   "metadata": {
    "scrolled": true
   },
   "outputs": [],
   "source": [
    "a_dict = {'a' : 1, 'b' : ['alpha','beta'], 'c' : 3.14}\n",
    "# Return a value assigned to the given key, if it doesn't exist - add it to the dictionary with assigned defalut value\n",
    "print(f\"a_dict:                                 {a_dict}\")\n",
    "print(f\"a_dict.setdefault('c',None):            {a_dict.setdefault('c',None)}\")\n",
    "print(f\"a_dict.setdefault('notInDict', None):   {a_dict.setdefault('notInDict', None)}\")\n",
    "print(f\"a_dict:                                 {a_dict} \\n\")"
   ]
  },
  {
   "cell_type": "code",
   "execution_count": null,
   "id": "fifty-rouge",
   "metadata": {
    "scrolled": false
   },
   "outputs": [],
   "source": [
    "a_dict = {'a' : 1, 'b' : ['alfa','beta'], 'c' : 3.14}\n",
    "# Return a copy of the dictionary\n",
    "a_copy = a_dict.copy()\n",
    "print(f\"a_copy:                   {a_copy}\")\n",
    "print(f\"a_copy == a_dict:         {a_copy == a_dict}\")\n",
    "print(f\"id(a_copy) == id(a_dict): {id(a_copy) == id(a_dict)}\\n\")"
   ]
  },
  {
   "cell_type": "code",
   "execution_count": null,
   "id": "comparative-tamil",
   "metadata": {},
   "outputs": [],
   "source": [
    "a_dict = {'a' : 1, 'b' : ['alfa','beta'], 'c' : 3.14}\n",
    "# Update dictionary using the given iterable object containing (key:value) pairs\n",
    "print(f\"a_dict: {a_dict}\")\n",
    "a_dict.update({'w' : 98, 'x' : 99})\n",
    "\n",
    "print(f\"a_dict: {a_dict}\")\n",
    "\n",
    "a_dict.update((('a',100),('f', 101)))\n",
    "print(f\"a_dict: {a_dict} \\n\")"
   ]
  },
  {
   "cell_type": "code",
   "execution_count": null,
   "id": "limited-upgrade",
   "metadata": {
    "scrolled": false
   },
   "outputs": [],
   "source": [
    "a_dict = {'a' : 1, 'b' : ['alpha','beta'], 'c' : 3.14}\n",
    "\n",
    "# Return an iterable object containing (key, value) pairs inside tuples\n",
    "print(f\"items:   {a_dict.items()}\\n\")\n",
    "\n",
    "# Return an iterable object containing dictionary keys\n",
    "print(f\"keys:    {a_dict.keys()}\\n\")\n",
    "\n",
    "# Return an iterable object containing dictionary values\n",
    "print(f\"values:  {a_dict.values()}\")"
   ]
  },
  {
   "cell_type": "code",
   "execution_count": null,
   "id": "broke-photographer",
   "metadata": {
    "scrolled": false
   },
   "outputs": [],
   "source": [
    "# Since Python 3.6, those methods no loger return lists but iterable objects instead\n",
    "a_dict = {'a' : 1, 'b' : ['alpha','beta'], 'c' : 3.14}\n",
    "\n",
    "keys = a_dict.keys()\n",
    "values = a_dict.values()\n",
    "items = a_dict.items()\n",
    "\n",
    "visual = [('keys',keys),('values', values), ('items',items)]\n",
    "\n",
    "for name, dict_object in visual:\n",
    "    print(f\"{name:<6} : \", end = ' ')\n",
    "    for argument in dict_object:\n",
    "        print(f\"{argument}\", end = ' ')\n",
    "    print()"
   ]
  },
  {
   "cell_type": "code",
   "execution_count": null,
   "id": "stable-specification",
   "metadata": {},
   "outputs": [],
   "source": [
    "# Intentional error incoming #\n",
    "keys[0] # Created variable is not subscriptable, meaning we can't access its arguments using indexes"
   ]
  },
  {
   "cell_type": "code",
   "execution_count": null,
   "id": "mature-induction",
   "metadata": {
    "scrolled": true
   },
   "outputs": [],
   "source": [
    "a_dict = {'a' : 1, 'b' : ['alpha','beta'], 'c' : 3.14, 'e' : 1.1112, 'f' : 'element'}\n",
    "\n",
    "# Return and remove from dictionary an argument with the given key\n",
    "print(f'a_dict.pop(\"a\"): {a_dict.pop(\"a\")}')\n",
    "print(f\"a_dict:          {a_dict}\")\n",
    "print(f'a_dict.pop(\"c\"): {a_dict.pop(\"c\")}')\n",
    "print(f\"a_dict:          {a_dict} \\n\")"
   ]
  },
  {
   "cell_type": "code",
   "execution_count": null,
   "id": "recognized-saturday",
   "metadata": {},
   "outputs": [],
   "source": [
    "a_dict = {'a' : 1, 'b' : ['alpha','beta'], 'c' : 3.14, 'e' : 1.1112, 'f' : 'element'}\n",
    "\n",
    "# Return and remove the last (key: value) pair in the dictionary\n",
    "print(f\"a_dict.popitem(): {a_dict.popitem()}\")\n",
    "print(f\"a_dict:           {a_dict} \\n\")"
   ]
  },
  {
   "cell_type": "code",
   "execution_count": null,
   "id": "theoretical-weight",
   "metadata": {},
   "outputs": [],
   "source": [
    "a_dict = {'a' : 1, 'b' : ['alpha','beta'], 'c' : 3.14, 'e' : 1.1112, 'f' : 'element'}\n",
    "\n",
    "# Remove all arguments from the dictionary\n",
    "a_dict.clear()\n",
    "print(f\"a_dict: {a_dict} \\n\")"
   ]
  },
  {
   "cell_type": "markdown",
   "id": "affiliated-minute",
   "metadata": {},
   "source": [
    "## Syntatic Sugar\n",
    "\n",
    "A lot of programming languages offer sytnax that make common tasks easier to code. Such *Syntatic sugar* allows for constructs that could be removed from the language without affecting the language’s functionality. "
   ]
  },
  {
   "cell_type": "code",
   "execution_count": null,
   "id": "durable-pocket",
   "metadata": {
    "scrolled": true
   },
   "outputs": [],
   "source": [
    "a_list = ['first', 'second', 'third','fourth']\n",
    "\n",
    "print(f\"a_list[0] : {a_list[0]}\")\n",
    "print(f\"a_list.__getitem__(0) : {a_list.__getitem__(0)}\",'\\n')\n",
    "\n",
    "print(f'\"second\" in a_list : {\"second\" in a_list}')\n",
    "print(f'a_list.__contains__(\"second\") : {a_list.__contains__(\"second\")}')"
   ]
  },
  {
   "cell_type": "markdown",
   "id": "greatest-paper",
   "metadata": {},
   "source": [
    "### F-strings\n",
    "\n",
    "Also called “formatted string literals,” f-strings are string literals that have an f at the beginning `f\" \"` and curly braces `{}` (called *replacement fields*) containing expressions that will be replaced with their values."
   ]
  },
  {
   "cell_type": "code",
   "execution_count": null,
   "id": "surface-airfare",
   "metadata": {},
   "outputs": [],
   "source": [
    "# Example f-string\n",
    "\n",
    "a_variable = 12345\n",
    "an_f_string = f\"The variable contains the following number: {a_variable}\"\n",
    "print(an_f_string)"
   ]
  },
  {
   "cell_type": "code",
   "execution_count": null,
   "id": "dental-fairy",
   "metadata": {},
   "outputs": [],
   "source": [
    "for i in range(5):\n",
    "    print(f\"The current i is equal to {i}\")"
   ]
  },
  {
   "cell_type": "code",
   "execution_count": null,
   "id": "tracked-hypothetical",
   "metadata": {
    "scrolled": true
   },
   "outputs": [],
   "source": [
    "def square(x):\n",
    "    return x**2\n",
    "\n",
    "# You can also put simple expressions or function calls in the replacement fields\n",
    "for i in range(1,5):\n",
    "    print(f\"   i = {i} \\n i+1 = {i+1} \\ni**2 = {square(i)}\\nodd? : {True if i%2 else False}\")\n",
    "    print(f\"{'-'*12}\")"
   ]
  },
  {
   "cell_type": "markdown",
   "id": "classical-measurement",
   "metadata": {},
   "source": [
    "f-strings also allow for simple formatting:"
   ]
  },
  {
   "cell_type": "code",
   "execution_count": null,
   "id": "aggregate-exposure",
   "metadata": {},
   "outputs": [],
   "source": [
    "# Space padding\n",
    "\n",
    "for i in range(6,12):\n",
    "    print(f\"Current number is : {i:3}\")\n",
    "# ___\n",
    "# i = 1\n",
    "# __1\n",
    "# i = 10\n",
    "# _10\n",
    "# i = 100\n",
    "# 100"
   ]
  },
  {
   "cell_type": "code",
   "execution_count": null,
   "id": "desirable-identifier",
   "metadata": {},
   "outputs": [],
   "source": [
    "# 0 padding\n",
    "\n",
    "for i in range(6,12):\n",
    "    print(f\"Current number is : {i:02}\")"
   ]
  },
  {
   "cell_type": "code",
   "execution_count": null,
   "id": "blessed-monroe",
   "metadata": {},
   "outputs": [],
   "source": [
    "# Alignment\n",
    "\n",
    "for i in range(1,6):\n",
    "    print(f\"{'*'*i:>5} : {i} stars\")"
   ]
  },
  {
   "cell_type": "code",
   "execution_count": null,
   "id": "golden-promise",
   "metadata": {},
   "outputs": [],
   "source": [
    "print(f\"{'*':^11}\")\n",
    "for i in range(1,6):\n",
    "    print(f\"{'*'*i:>5}|{'*'*i:<5}\")\n",
    "print(f\"{'M':^11}\")"
   ]
  },
  {
   "cell_type": "markdown",
   "id": "enormous-handle",
   "metadata": {},
   "source": [
    "### Comparison and Assignment Shortcuts"
   ]
  },
  {
   "cell_type": "code",
   "execution_count": null,
   "id": "paperback-being",
   "metadata": {
    "scrolled": false
   },
   "outputs": [],
   "source": [
    "# Assigning one value to multiple variables\n",
    "x = y = z = 10\n",
    "print(f\"x: {x}  y: {y}  z: {z}\")"
   ]
  },
  {
   "cell_type": "code",
   "execution_count": null,
   "id": "ignored-ultimate",
   "metadata": {
    "scrolled": true
   },
   "outputs": [],
   "source": [
    "# Be careful when you're assigning mutable objects this way\n",
    "x = y = z = [1,2,3]\n",
    "print(f\"x: {x}  y: {y}  z: {z} \\n\")\n",
    "print(\"x.append(100) \\n\")\n",
    "x.append(100)\n",
    "print(f\"x: {x}  y: {y}  z: {z}\")"
   ]
  },
  {
   "cell_type": "code",
   "execution_count": null,
   "id": "knowing-alias",
   "metadata": {
    "scrolled": true
   },
   "outputs": [],
   "source": [
    "# Unpacking multiple arguments\n",
    "a, b, c = 'text', [1,2,3], 4.5\n",
    "print(f'a: {a}\\nb: {b}\\nc: {c}')"
   ]
  },
  {
   "cell_type": "code",
   "execution_count": null,
   "id": "offensive-representative",
   "metadata": {},
   "outputs": [],
   "source": [
    "a_tuple = ({1 : 'some', 2: \"dictionary\"}, ({1,20,300}), lambda x: x+1)\n",
    "# d = a_tuple[0], e = a_tuple[1], f = a_tuple[2]\n",
    "d,e,f = a_tuple\n",
    "print(f\"d: {d}  e: {e}  f: {f}\")"
   ]
  },
  {
   "cell_type": "code",
   "execution_count": null,
   "id": "streaming-tactics",
   "metadata": {
    "scrolled": false
   },
   "outputs": [],
   "source": [
    "# Conditional assignment\n",
    "def divideByX(x):\n",
    "    x = 1 / x if x else 1\n",
    "    return x\n",
    "\n",
    "print(f' 1 / 10 = {divideByX(10)} \\n'\n",
    "      f' 1 / 0  = {divideByX(0)}')"
   ]
  },
  {
   "cell_type": "markdown",
   "id": "illegal-aging",
   "metadata": {},
   "source": [
    "### List comprehention\n",
    "\n",
    "Creating a list based on another iterable object in a single line of code."
   ]
  },
  {
   "cell_type": "code",
   "execution_count": null,
   "id": "knowing-navigation",
   "metadata": {},
   "outputs": [],
   "source": [
    "a_list_of_Xs = [1,2,3,4,5]\n",
    "\n",
    "squares = [x**2 for x in a_list_of_Xs]\n",
    "print(f\"{'List of squares':>24} : {squares}\")\n",
    "\n",
    "# Above is the same as:\n",
    "squares2 = []\n",
    "for x in a_list_of_Xs:\n",
    "    squares2.append(x**2)\n",
    "\n",
    "print(f\"The same list of squares : {squares2}\")"
   ]
  },
  {
   "cell_type": "code",
   "execution_count": null,
   "id": "false-rainbow",
   "metadata": {
    "scrolled": true
   },
   "outputs": [],
   "source": [
    "# List comprehention + condition\n",
    "\n",
    "a_list_of_Xs = [1,2,3,4,5,6,7]\n",
    "\n",
    "# Squares of odd numbers\n",
    "squares  = [x**2 for x in a_list_of_Xs if x%2]\n",
    "print(squares)"
   ]
  },
  {
   "cell_type": "code",
   "execution_count": null,
   "id": "seventh-projection",
   "metadata": {
    "scrolled": true
   },
   "outputs": [],
   "source": [
    "an_iterable_object = 'abcd'\n",
    "bigLetters = [l.upper() for l in an_iterable_object]\n",
    "print(bigLetters)"
   ]
  },
  {
   "cell_type": "markdown",
   "id": "hungarian-thread",
   "metadata": {},
   "source": [
    "### `lambda` functions\n",
    "\n",
    "Also known as \"*anonymous functions*\" or \"*lambda abstractions*\", are a type of simple (usually one line) functions."
   ]
  },
  {
   "cell_type": "code",
   "execution_count": null,
   "id": "allied-grave",
   "metadata": {
    "scrolled": true
   },
   "outputs": [],
   "source": [
    "f = lambda x: x**2 - 3*x + 2\n",
    "print(f'f(10) = {f(10)}')"
   ]
  },
  {
   "cell_type": "code",
   "execution_count": null,
   "id": "sought-dublin",
   "metadata": {
    "scrolled": true
   },
   "outputs": [],
   "source": [
    "# lambda function can take more than just one argument \n",
    "\n",
    "f = lambda x,y: x**2 + 2*x*y + y**2\n",
    "print(f'f(2,3) = {f(2,3)}')"
   ]
  },
  {
   "cell_type": "code",
   "execution_count": null,
   "id": "olive-internship",
   "metadata": {
    "scrolled": false
   },
   "outputs": [],
   "source": [
    "# You can also call other functions inside a lambda function\n",
    "\n",
    "def outerFunction(x):\n",
    "    return x + 2\n",
    "\n",
    "f = lambda x: (outerFunction(x) + outerFunction(x-1))/5\n",
    "\n",
    "print(f'f(5) = {f(5)}')"
   ]
  },
  {
   "cell_type": "code",
   "execution_count": null,
   "id": "minor-working",
   "metadata": {},
   "outputs": [],
   "source": [
    "# You can store them inside of data structures, like lists\n",
    "\n",
    "list_of_func = [lambda x: x,\n",
    "                lambda x: x**2,\n",
    "                lambda x: x**3]\n",
    "\n",
    "print(f'list_of_func[0](5) = {list_of_func[0](5)}')\n",
    "print(f'list_of_func[1](5) = {list_of_func[1](5)}')\n",
    "print(f'list_of_func[2](5) = {list_of_func[2](5)}')"
   ]
  },
  {
   "cell_type": "code",
   "execution_count": null,
   "id": "cognitive-science",
   "metadata": {
    "scrolled": true
   },
   "outputs": [],
   "source": [
    "powers = [1,2,3,4]\n",
    "list_of_func = []\n",
    "def x_power_y(x,y): return x**y\n",
    "\n",
    "# Creating a list of functions that will raise x to the power of y, where y changes from function to function\n",
    "for power in powers:\n",
    "    list_of_func.append(lambda  x,power=power: x_power_y(x,power))\n",
    "\n",
    "# Calling all functions with x = 2\n",
    "for function,y in zip(list_of_func, powers):\n",
    "    print(f\"funkcja(2) = {function(2):2}  ;  y = {y}\")"
   ]
  },
  {
   "cell_type": "code",
   "execution_count": null,
   "id": "manual-newman",
   "metadata": {
    "scrolled": false
   },
   "outputs": [],
   "source": [
    "a_list = \"Sorted is a Case Sensitive function\".split()\n",
    "print(f\"a_list : {a_list}\\n\")\n",
    "print(f\"{'sorted(a_list)':>31} : {sorted(a_list)}\")\n",
    "print(f\"sorted(a_list, key = str.upper) : {sorted(a_list, key = str.upper)}\")"
   ]
  },
  {
   "cell_type": "code",
   "execution_count": null,
   "id": "handled-narrative",
   "metadata": {
    "scrolled": true
   },
   "outputs": [],
   "source": [
    "# You can pass lambda to other functions, such as sorted()\n",
    "\n",
    "elements = [('At', 85), ('Br', 35), ('Cl', 17), ('F', 9), ('I', 53)]\n",
    "print(sorted(elements, key = lambda e: e[1]))"
   ]
  },
  {
   "cell_type": "markdown",
   "id": "sunset-sight",
   "metadata": {},
   "source": [
    "### Generators\n",
    "\n",
    "Functions that behave like iterable objects. They are an efficient way of *storing* long sequences but also have other uses.  \n",
    "A generator i defined the same way a function is but instead of using the `return` keyword it uses the `yield` keyword, which *pauses* the generator (instead of closing, like `return` would do with a function)."
   ]
  },
  {
   "cell_type": "code",
   "execution_count": null,
   "id": "indirect-combat",
   "metadata": {
    "scrolled": true
   },
   "outputs": [],
   "source": [
    "# yield 'pauses' the execution of the generator\n",
    "\n",
    "def multiYield():\n",
    "    i = 0\n",
    "    message = f\"First message, i = {i}\"\n",
    "    yield message\n",
    "    i += 1\n",
    "    message = f\"Second message, i = {i}\"\n",
    "    yield message\n",
    "    i += 1\n",
    "    message = f\"Third message, i = {i}\"\n",
    "    yield message\n",
    "    \n",
    "gen = multiYield()"
   ]
  },
  {
   "cell_type": "code",
   "execution_count": null,
   "id": "prepared-audience",
   "metadata": {},
   "outputs": [],
   "source": [
    "# First call\n",
    "next(gen)"
   ]
  },
  {
   "cell_type": "code",
   "execution_count": null,
   "id": "daily-lewis",
   "metadata": {},
   "outputs": [],
   "source": [
    "# Second call\n",
    "next(gen)"
   ]
  },
  {
   "cell_type": "code",
   "execution_count": null,
   "id": "miniature-pride",
   "metadata": {
    "scrolled": true
   },
   "outputs": [],
   "source": [
    "# Third call\n",
    "next(gen)"
   ]
  },
  {
   "cell_type": "code",
   "execution_count": null,
   "id": "boxed-killing",
   "metadata": {},
   "outputs": [],
   "source": [
    "# Fourth call - the generator was \"used up\" after the third call and any subsequent calls will raise StopIteration\n",
    "next(gen)"
   ]
  },
  {
   "cell_type": "code",
   "execution_count": null,
   "id": "beneficial-thought",
   "metadata": {},
   "outputs": [],
   "source": [
    "def count(n):\n",
    "    i = 0\n",
    "    while i <= n:\n",
    "        yield i\n",
    "        i += 1\n",
    "\n",
    "for number in count(8):\n",
    "    print(number, end = ' ')"
   ]
  },
  {
   "cell_type": "code",
   "execution_count": null,
   "id": "colonial-shell",
   "metadata": {},
   "outputs": [],
   "source": [
    "# Generator comprehension\n",
    "\n",
    "count = (i for i in range(9))\n",
    "for number in count:\n",
    "    print(number, end = ' ')"
   ]
  },
  {
   "cell_type": "code",
   "execution_count": 1,
   "id": "crucial-gothic",
   "metadata": {
    "scrolled": false
   },
   "outputs": [
    {
     "name": "stdout",
     "output_type": "stream",
     "text": [
      "Size of the list of square numbers : 87616 \n",
      "Size of generator of square numbers : 112\n"
     ]
    }
   ],
   "source": [
    "# Generators are a great way to optimize memory usage\n",
    "\n",
    "import sys\n",
    "# Size in bytes\n",
    "nums_squared_lc = [i ** 2 for i in range(10000)]\n",
    "print(f\"Size of the list of square numbers : {sys.getsizeof(nums_squared_lc)} \")\n",
    "nums_squared_gc = (i ** 2 for i in range(10000))\n",
    "print(f\"Size of generator of square numbers : {sys.getsizeof(nums_squared_gc)}\")"
   ]
  },
  {
   "cell_type": "markdown",
   "id": "beneficial-instrumentation",
   "metadata": {},
   "source": [
    "<img src=\"https://images-na.ssl-images-amazon.com/images/I/61oJ%2BsGyLIL._AC_SX425_.jpg\" width=\"240\" height=\"240\" align=\"left\"/>\n",
    "<img src=\"https://www.firstpalette.com/images/craft-steps/explodingnumbers-step3.jpg\" width=\"240\" height=\"240\" align=\"left\"/>"
   ]
  },
  {
   "cell_type": "code",
   "execution_count": null,
   "id": "incomplete-brunei",
   "metadata": {},
   "outputs": [],
   "source": [
    "def csv_reader(file_name):\n",
    "    file = open(file_name)\n",
    "    result = file.read().split(\"\\n\")\n",
    "    file.close()\n",
    "    return result"
   ]
  },
  {
   "cell_type": "code",
   "execution_count": null,
   "id": "oriental-aurora",
   "metadata": {},
   "outputs": [],
   "source": [
    "csv_gen = csv_reader(\"../a_really_big_file.txt\")\n",
    "# Just pretend the function raised a memory error...\n",
    "raise MemoryError"
   ]
  },
  {
   "cell_type": "code",
   "execution_count": null,
   "id": "colonial-tobago",
   "metadata": {},
   "outputs": [],
   "source": [
    "def csv_reader_gen(file_name):\n",
    "    for row in open(file_name,\"r\"):\n",
    "        yield row"
   ]
  },
  {
   "cell_type": "code",
   "execution_count": null,
   "id": "scientific-lightweight",
   "metadata": {
    "scrolled": true
   },
   "outputs": [],
   "source": [
    "csv_gen = csv_reader_gen(\"../a_really_big_file.txt\")\n",
    "count = 0\n",
    "for i in csv_gen:\n",
    "    count += 1\n",
    "print(f\"Row count is {count}\")"
   ]
  },
  {
   "cell_type": "markdown",
   "id": "subtle-canadian",
   "metadata": {},
   "source": [
    "Source: https://realpython.com/introduction-to-python-generators/#example-1-reading-large-files"
   ]
  },
  {
   "cell_type": "markdown",
   "id": "residential-deviation",
   "metadata": {},
   "source": [
    "### `Map()`\n",
    "\n",
    "Function that returns an iterator that applies a given function to a given iterable object."
   ]
  },
  {
   "cell_type": "code",
   "execution_count": null,
   "id": "residential-problem",
   "metadata": {
    "scrolled": false
   },
   "outputs": [],
   "source": [
    "multi_lists = [[1,2,3],[4,5,6],[7,8,9]]\n",
    "\n",
    "m = map(sum, multi_lists) \n",
    "# Here's what's going to happen: sum([1,2,3]), sum([4,5,6]), sum([7,8,9])\n",
    "print(f'm : {m}\\n')\n",
    "print(f\"A list from the map object 'm' : {list(m)}\\n\")\n",
    "\n",
    "m = map(sum, multi_lists)\n",
    "for a_sum in m:\n",
    "    print(a_sum, end = ' ')"
   ]
  },
  {
   "cell_type": "code",
   "execution_count": null,
   "id": "local-newcastle",
   "metadata": {
    "scrolled": true
   },
   "outputs": [],
   "source": [
    "# This is the same result as using a map() function\n",
    "multi_lists = [[1,2,3],[4,5,6],[7,8,9]]\n",
    "\n",
    "out_list = []\n",
    "for sublist in multi_lists:\n",
    "    out_list.append(sum(sublist))\n",
    "print(out_list)"
   ]
  },
  {
   "cell_type": "code",
   "execution_count": null,
   "id": "floating-blocking",
   "metadata": {},
   "outputs": [],
   "source": [
    "# A map object is similar to a generator - it's an iterator that yields it's values and pauses untill called again\n",
    "multi_lists = [[1,2,3],[4,5,6],[7,8,9]]\n",
    "\n",
    "m = map(sum, multi_lists)\n",
    "print(next(m),next(m),next(m))"
   ]
  },
  {
   "cell_type": "code",
   "execution_count": null,
   "id": "finnish-canberra",
   "metadata": {
    "scrolled": true
   },
   "outputs": [],
   "source": [
    "multi_lists = [[1,2,3],[4,5,6],[7,8,9]]\n",
    "\n",
    "m = map(sum, multi_lists)\n",
    "print(next(m),next(m),next(m))\n",
    "\n",
    "# And if we call it again after depleting it, we'll get a StopIteration exception\n",
    "next(m)"
   ]
  },
  {
   "cell_type": "code",
   "execution_count": null,
   "id": "viral-briefs",
   "metadata": {
    "scrolled": true
   },
   "outputs": [],
   "source": [
    "# We can pass more than just one iterable object\n",
    "multi_lists = [['a','b','c'],['d','e','f'],['g','h','i']]\n",
    "something_else = ['x','y','z']\n",
    "\n",
    "# Take the second argument from the sublist and add to it a parallel object from another list\n",
    "m = map(lambda x,y: x[1] + y, multi_lists, something_else)\n",
    "print(f\"A list from the map object 'm' : {list(m)}\")\n",
    "\n",
    "# Same as this for loop\n",
    "out_list = []\n",
    "for i in range(3):\n",
    "    out_list.append(multi_lists[i][1] + something_else[i])\n",
    "print(out_list)"
   ]
  },
  {
   "cell_type": "markdown",
   "id": "surrounded-directive",
   "metadata": {},
   "source": [
    "## Modules and packages\n",
    "\n",
    "A `module` can be any Python program that defines a function or a variable.  \n",
    "`Packages` are a way of organizing modules."
   ]
  },
  {
   "cell_type": "markdown",
   "id": "conventional-separation",
   "metadata": {},
   "source": [
    "### `import`\n",
    "\n",
    "To use a module first you need to import it using the `import` keyword."
   ]
  },
  {
   "cell_type": "code",
   "execution_count": null,
   "id": "pleased-template",
   "metadata": {
    "scrolled": false
   },
   "outputs": [],
   "source": [
    "import moduł\n",
    "\n",
    "# Function to calculate a square of a given number\n",
    "print(f\"moduł.kwadrat(16) = {moduł.kwadrat(16)}\\n\")\n",
    "\n",
    "# Just a variable\n",
    "print(f\"moduł.zmienna: {moduł.zmienna}\")"
   ]
  },
  {
   "cell_type": "code",
   "execution_count": null,
   "id": "selective-celebrity",
   "metadata": {},
   "outputs": [],
   "source": [
    "# same import but with an alias\n",
    "import moduł as m\n",
    "\n",
    "print(f\"m.kwadrat(8) = {m.kwadrat(8)}\\n\")\n",
    "print(f\"m.zmienna: {m.zmienna}\")"
   ]
  },
  {
   "cell_type": "code",
   "execution_count": null,
   "id": "defined-appearance",
   "metadata": {
    "scrolled": true
   },
   "outputs": [],
   "source": [
    "# wildcard import - imports everything from a module\n",
    "from moduł import *\n",
    "\n",
    "print(f\"kwadrat(4) = {kwadrat(4)}\\n\")\n",
    "print(f\"zmienna: {zmienna}\\n\")"
   ]
  },
  {
   "cell_type": "code",
   "execution_count": null,
   "id": "technological-czech",
   "metadata": {
    "scrolled": false
   },
   "outputs": [],
   "source": [
    "# Package import\n",
    "import paczka.fKwadratowa\n",
    "import paczka.potęga\n",
    "\n",
    "\n",
    "print(f\"f(5) = {paczka.fKwadratowa.fKwad(5)}\\n\")\n",
    "print(f\"2**5 = {paczka.potęga.potega(5)}\\n\")"
   ]
  },
  {
   "cell_type": "code",
   "execution_count": null,
   "id": "legislative-colonial",
   "metadata": {
    "scrolled": true
   },
   "outputs": [],
   "source": [
    "# Package import with an alias\n",
    "import paczka.fKwadratowa as fK\n",
    "import paczka.potęga as p\n",
    "\n",
    "\n",
    "print(f\"f(9) = {fK.fKwad(9)}\\n\")\n",
    "print(f\"2**7 = {p.potega(7)}\\n\")"
   ]
  },
  {
   "cell_type": "code",
   "execution_count": null,
   "id": "tested-reception",
   "metadata": {
    "scrolled": false
   },
   "outputs": [],
   "source": [
    "import cleanPkg\n",
    "\n",
    "# bezSpacji - removes spaces from the string\n",
    "print(cleanPkg.bezSpc(\"Str ing    bez    spa cji\\n\"))\n",
    "\n",
    "# dużeLitery - makes all the letters in the string big\n",
    "print(cleanPkg.dużeL(\"string z dużymi literami\\n\"))\n",
    "\n",
    "# gwiazdki - inserts the string in a line of stars\n",
    "print(cleanPkg.gwzdki(\"String w gwiazdkach\"))"
   ]
  },
  {
   "cell_type": "markdown",
   "id": "acute-french",
   "metadata": {},
   "source": [
    "## Operating system services in Python"
   ]
  },
  {
   "cell_type": "markdown",
   "id": "technological-discovery",
   "metadata": {},
   "source": [
    "Python allows for the interaction between your program and the operating system it was launched it."
   ]
  },
  {
   "cell_type": "markdown",
   "id": "conventional-constitutional",
   "metadata": {},
   "source": [
    "### `sys` module\n",
    "\n",
    "[`sys` module documentation](https://docs.python.org/3/library/sys.html)"
   ]
  },
  {
   "cell_type": "code",
   "execution_count": null,
   "id": "matched-championship",
   "metadata": {},
   "outputs": [],
   "source": [
    "import sys\n",
    "\n",
    "#sys.argv\n",
    "\n",
    "#sys.exit\n",
    "\n",
    "print(\"sys.version: \", sys.version, '\\n')\n",
    "\n",
    "print(\"sys.path:\", sys.path)"
   ]
  },
  {
   "cell_type": "markdown",
   "id": "unknown-hands",
   "metadata": {},
   "source": [
    "### `os` module\n",
    "\n",
    "[`os` module documentation](https://docs.python.org/3/library/os.html#module-os)"
   ]
  },
  {
   "cell_type": "code",
   "execution_count": null,
   "id": "anonymous-fitness",
   "metadata": {
    "scrolled": true
   },
   "outputs": [],
   "source": [
    "import os\n",
    "\n",
    "# os.getenv(key) - Return the value of the environment variable key if it exists, or default if it doesn’t.\n",
    "print(f\"os.getenv('SYSTEMROOT') = {os.getenv('SYSTEMROOT')}\\n\")\n",
    "\n",
    "#os.listdir(path=<path>) - Return a list containing the names of the entries in the directory given by path.\n",
    "print(f\"current dir: {os.listdir(path='.')}\\n\")\n",
    "\n",
    "#os.mkdir(<path>) - Create a directory named <path>.\n",
    "os.mkdir(\"newDir\")\n",
    "print(f\"os.mkdir('newDir'): {os.listdir(path='.')}\\n\")\n",
    "\n",
    "#os.rmdir(<path>) - Remove (delete) the directory <path>.\n",
    "os.rmdir(\"newDir\")\n",
    "print(f\"os.rmdir('newDir'): {os.listdir(path='.')}\\n\")"
   ]
  },
  {
   "cell_type": "code",
   "execution_count": null,
   "id": "0cd625c8",
   "metadata": {
    "scrolled": true
   },
   "outputs": [],
   "source": [
    "#os.system(<command>) - Execute the <command> (a string) in a subshell.\n",
    "os.system(\"fsutil file createnew emptyfile.txt 0\") # A Windows equivalent of bash 'touch' command\n",
    "print(f\"os.listdir(path='.'): {os.listdir(path='.')}\\n\")\n",
    "\n",
    "#os.rename(<old name>, <new name>) - Rename the file or directory <old name> to <new name>.\n",
    "os.rename(\"emptyfile.txt\",\"reallyEmptyFile.txt\")\n",
    "\n",
    "#os.remove(<path>) - Remove (delete) the file <path>.\n",
    "os.remove(\"reallyEmptyFile.txt\")\n",
    "print(f\"os.listdir(path='.'): {os.listdir(path='.')}\\n\")"
   ]
  },
  {
   "cell_type": "markdown",
   "id": "configured-postcard",
   "metadata": {},
   "source": [
    "[`os.path` documentation](https://docs.python.org/3/library/os.path.html)"
   ]
  },
  {
   "cell_type": "code",
   "execution_count": null,
   "id": "critical-ceiling",
   "metadata": {
    "scrolled": true
   },
   "outputs": [],
   "source": [
    "myPath = \"C:\\\\Users\\\\kubac\\\\Python_kurs\\\\paczka\\\\potęga.py\"\n",
    "#os.path.basename(<path>) - Return the base name of pathname <path>. \n",
    "print(f\"basename(myPath): {os.path.basename(myPath)}\\n\")\n",
    "\n",
    "#os.path.dirname(<path>) - Return the directory name of pathname <path>.\n",
    "print(f\"os.path.dirname(myPath): {os.path.dirname(myPath)}\\n\")\n",
    "\n",
    "#os.path.split(<path>) - Split the pathname path into a pair (head, tail)\n",
    "print(f\"os.path.split(myPath): {os.path.split(myPath)}\\n\")"
   ]
  },
  {
   "cell_type": "code",
   "execution_count": null,
   "id": "8833c911",
   "metadata": {},
   "outputs": [],
   "source": [
    "myPath = \"C:\\\\Users\\\\kubac\\\\Python_kurs\\\\paczka\\\\potęga.py\"\n",
    "#os.path.splitext(<path>) - Split the pathname path into a pair (root, extension)\n",
    "print(f\"os.path.splitext(myPath): {os.path.splitext(myPath)}\\n\")\n",
    "\n",
    "#os.path.exists(<path>) - Return True if <path> refers to an existing path or an open file descriptor.\n",
    "print(f\"os.path.exists(myPath): {os.path.exists(myPath)}\\n\")\n",
    "\n",
    "#os.path.getmtime(<path>) - Return the time of last modification of <path>. \n",
    "print(f\"os.path.getmtime(myPath): {os.path.getmtime(myPath)}\\n\")\n",
    "\n",
    "#os.path.getsize(<path>) - Return the size, in bytes, of <path>.\n",
    "print(f\"os.path.getsize(myPath): {os.path.getsize(myPath)}\\n\")"
   ]
  },
  {
   "cell_type": "markdown",
   "id": "registered-bicycle",
   "metadata": {},
   "source": [
    "## Basics of Object-Oriented Programming (OOP)"
   ]
  },
  {
   "cell_type": "markdown",
   "id": "d8f5304a",
   "metadata": {},
   "source": [
    "Object-oriented programming is a programming paradigm that breaks down complex projects into **objects**, that represent various concepts in the project, and the procedures that happen in the program are defined by **relations** between objects.  \n",
    "Objects store arguments (called *atributes*) and functions (called *methods*) that allow for manipulation of those arguments."
   ]
  },
  {
   "cell_type": "code",
   "execution_count": null,
   "id": "heavy-incident",
   "metadata": {
    "scrolled": true
   },
   "outputs": [],
   "source": [
    "# Technicaly everything in Python is an object\n",
    "help(str)"
   ]
  },
  {
   "cell_type": "code",
   "execution_count": null,
   "id": "99eb7f11",
   "metadata": {
    "scrolled": true
   },
   "outputs": [],
   "source": [
    "# Definition of a simple class\n",
    "\n",
    "class name_of_class:\n",
    "    \n",
    "    def __init__(self, variable):\n",
    "        self.argument = variable\n",
    "        \n",
    "    def say_hello(self):\n",
    "        print(f\"Hello. My argument is {self.argument}\")\n",
    "\n",
    "# Calling an object and assigning it to a variable\n",
    "a_variable = name_of_class(1000)\n",
    "print(a_variable.argument)\n",
    "a_variable.say_hello()"
   ]
  },
  {
   "cell_type": "code",
   "execution_count": null,
   "id": "2e8e71a3",
   "metadata": {},
   "outputs": [],
   "source": [
    "# More objects and class inheritance\n",
    "\n",
    "class animal:\n",
    "    def __init__(self, name, color):\n",
    "        self.name = name\n",
    "        self.color = color      \n",
    "    def my_name_is(self):\n",
    "        print(f\"My name is {self.name}.\")\n",
    "    def speak(self):\n",
    "        print(\"*animal sound*\")\n",
    "    \n",
    "        \n",
    "##        \n",
    "class cat(animal):\n",
    "    def __init__(self, name, color, fav_fish):\n",
    "        super().__init__(name, color)\n",
    "        self.fav_fish = fav_fish\n",
    "    def food(self):\n",
    "        print(f\"My favourite fish is {self.fav_fish}.\")\n",
    "    def speak(self):\n",
    "        print(\"Meow.\")\n",
    "\n",
    "##        \n",
    "class dog(animal):\n",
    "    def __init__(self, name, color, fav_toy):\n",
    "        super().__init__(name, color)\n",
    "        self.fav_toy = fav_toy\n",
    "    def play(self):\n",
    "        print(f\"My favourite toy is {self.fav_toy}.\")\n",
    "    def speak(self):\n",
    "        print(\"Woof.\")\n",
    "        \n",
    "##\n",
    "\n",
    "an_animal = animal(\"Maurice\", \"Blue\")\n",
    "\n",
    "kitty = cat(\"Josh\", \"Orange\", \"salmon\")\n",
    "other_kitty = cat(\"Jade\", \"Black\", \"tuna\")\n",
    "\n",
    "doggy = dog(\"Jack\", \"Black\", \"a tennis ball\")\n",
    "another_doggy = dog(\"Princess\", \"White\", \"a shoe\")"
   ]
  },
  {
   "cell_type": "code",
   "execution_count": null,
   "id": "54ce77e3",
   "metadata": {},
   "outputs": [],
   "source": [
    "print(an_animal.name, an_animal.color)\n",
    "an_animal.my_name_is()\n",
    "an_animal.speak()"
   ]
  },
  {
   "cell_type": "code",
   "execution_count": null,
   "id": "019a8c4c",
   "metadata": {},
   "outputs": [],
   "source": [
    "print(kitty.name, kitty.color)\n",
    "kitty.my_name_is()\n",
    "kitty.speak()\n",
    "\n",
    "kitty.food()"
   ]
  },
  {
   "cell_type": "code",
   "execution_count": null,
   "id": "0f2ddefd",
   "metadata": {},
   "outputs": [],
   "source": [
    "print(doggy.name, doggy.color)\n",
    "doggy.my_name_is()\n",
    "doggy.speak()\n",
    "\n",
    "doggy.play()"
   ]
  },
  {
   "cell_type": "code",
   "execution_count": null,
   "id": "61ed43cb",
   "metadata": {},
   "outputs": [],
   "source": [
    "print(another_doggy.name, another_doggy.color)\n",
    "another_doggy.my_name_is()\n",
    "another_doggy.speak()\n",
    "\n",
    "another_doggy.play()"
   ]
  },
  {
   "cell_type": "markdown",
   "id": "fdf94277",
   "metadata": {},
   "source": [
    "## Extras"
   ]
  },
  {
   "cell_type": "markdown",
   "id": "900a71ac",
   "metadata": {},
   "source": [
    "### Reserved keywords in Python\n",
    "<a id='another_cell'></a>  \n",
    "[Back to top](#keywords_link)  \n",
    "\n",
    "|  Keyword |                          Description                         |\n",
    "|:--------:|:------------------------------------------------------------:|\n",
    "|    and   |                      A logical operator                      |\n",
    "|    as    |                      To create an alias                      |\n",
    "|  assert  |                         For debugging                        |\n",
    "|   break  |                    To break out of a loop                    |\n",
    "|   class  |                       To define a class                      |\n",
    "| continue |          To continue to the next iteration of a loop         |\n",
    "|    def   |                     To define a function                     |\n",
    "|    del   |                      to delete an object                     |\n",
    "|   elif   |        Used in conditional statements, same as else if       |\n",
    "|   else   |                Used in conditional statements                |\n",
    "|  except  |   Used with exceptions, what to do when an exception occurs  |\n",
    "|   False  |        Boolean value, result of comparison operations        |\n",
    "|  finally | Used with exceptions, block of code that will always execute |\n",
    "|    for   |                     To create a for loop                     |\n",
    "|   from   |             To import specific parts of a module             |\n",
    "|  global  |                 To declare a global variable                 |\n",
    "|    if    |                To make a conditional statement               |\n",
    "|  import  |                      To import a module                      |\n",
    "|    in    |          To check if a value is present in an object         |\n",
    "|  lambda  |                To create an anonymous function               |\n",
    "|   None   |                    Represents a null value                   |\n",
    "| nonlocal |                To declare a non-local variable               |\n",
    "|    not   |                      A logical operator                      |\n",
    "|    or    |                      A logical operator                      |\n",
    "|   pass   |      A null statement, a statement that will do nothing      |\n",
    "|   raise  |                     To raise an exception                    |\n",
    "|  return  |             To exit a function and return a value            |\n",
    "|   True   |        Boolean value, result of comparison operations        |\n",
    "|    try   |               To make a try...except statement               |\n",
    "|   while  |                    To create a while loop                    |\n",
    "|   with   |              Used to simplify exception handling             |\n",
    "|   yield  |             To end a function, return a generator            |\n",
    "\n",
    "Source: https://www.w3schools.com/python/python_ref_keywords.asp  "
   ]
  },
  {
   "cell_type": "markdown",
   "id": "challenging-triple",
   "metadata": {},
   "source": [
    "### Exception hierarchy\n",
    "<a id='exception_hierarchy'></a> \n",
    "[Back to top](#exception_link)"
   ]
  },
  {
   "cell_type": "code",
   "execution_count": null,
   "id": "moving-graph",
   "metadata": {},
   "outputs": [],
   "source": [
    "BaseException\n",
    " +-- SystemExit\n",
    " +-- KeyboardInterrupt\n",
    " +-- GeneratorExit\n",
    " +-- Exception\n",
    "      +-- StopIteration\n",
    "      +-- StopAsyncIteration\n",
    "      +-- ArithmeticError\n",
    "      |    +-- FloatingPointError\n",
    "      |    +-- OverflowError\n",
    "      |    +-- ZeroDivisionError\n",
    "      +-- AssertionError\n",
    "      +-- AttributeError\n",
    "      +-- BufferError\n",
    "      +-- EOFError\n",
    "      +-- ImportError\n",
    "      |    +-- ModuleNotFoundError\n",
    "      +-- LookupError\n",
    "      |    +-- IndexError\n",
    "      |    +-- KeyError\n",
    "      +-- MemoryError\n",
    "      +-- NameError\n",
    "      |    +-- UnboundLocalError\n",
    "      +-- OSError\n",
    "      |    +-- BlockingIOError\n",
    "      |    +-- ChildProcessError\n",
    "      |    +-- ConnectionError\n",
    "      |    |    +-- BrokenPipeError\n",
    "      |    |    +-- ConnectionAbortedError\n",
    "      |    |    +-- ConnectionRefusedError\n",
    "      |    |    +-- ConnectionResetError\n",
    "      |    +-- FileExistsError\n",
    "      |    +-- FileNotFoundError\n",
    "      |    +-- InterruptedError\n",
    "      |    +-- IsADirectoryError\n",
    "      |    +-- NotADirectoryError\n",
    "      |    +-- PermissionError\n",
    "      |    +-- ProcessLookupError\n",
    "      |    +-- TimeoutError\n",
    "      +-- ReferenceError\n",
    "      +-- RuntimeError\n",
    "      |    +-- NotImplementedError\n",
    "      |    +-- RecursionError\n",
    "      +-- SyntaxError\n",
    "      |    +-- IndentationError\n",
    "      |         +-- TabError\n",
    "      +-- SystemError\n",
    "      +-- TypeError\n",
    "      +-- ValueError\n",
    "      |    +-- UnicodeError\n",
    "      |         +-- UnicodeDecodeError\n",
    "      |         +-- UnicodeEncodeError\n",
    "      |         +-- UnicodeTranslateError\n",
    "      +-- Warning\n",
    "           +-- DeprecationWarning\n",
    "           +-- PendingDeprecationWarning\n",
    "           +-- RuntimeWarning\n",
    "           +-- SyntaxWarning\n",
    "           +-- UserWarning\n",
    "           +-- FutureWarning\n",
    "           +-- ImportWarning\n",
    "           +-- UnicodeWarning\n",
    "           +-- BytesWarning\n",
    "           +-- ResourceWarning"
   ]
  },
  {
   "cell_type": "markdown",
   "id": "cognitive-omega",
   "metadata": {},
   "source": [
    "Source: https://docs.python.org/3/library/exceptions.html#exception-hierarchy  "
   ]
  },
  {
   "cell_type": "markdown",
   "id": "714d17c8",
   "metadata": {},
   "source": [
    "## Common Python special methods\n",
    "\n",
    "|      Method      |              Description             | Example |\n",
    "|:----------------:|:------------------------------------:|:-------:|\n",
    "|    \\_\\_add\\_\\_   | +, addition                          |  x + y  |\n",
    "|    \\_\\_sub\\_\\_   | -, subtraction                       |  x - y  |\n",
    "|    \\_\\_mul\\_\\_   | *, multiplication                    |  x * y  |\n",
    "|  \\_\\_truediv\\_\\_ | /, \"true\" division                   |  x / y  |\n",
    "| \\_\\_floordiv\\_\\_ | //, floor division                   |  x // y |\n",
    "|    \\_\\_mod\\_\\_   | %, modulus                           |  x % y  |\n",
    "|    \\_\\_pow\\_\\_   | \\*\\*, exponentiation                   |  x \\*\\* y |\n",
    "|    \\_\\_neg\\_\\_   | negation (unary minus)               |    -x   |\n",
    "|  \\_\\_matmul\\_\\_  | @, matrix multiplication             |  x @ y  |\n",
    "|    \\_\\_abs\\_\\_   | absolute value                       |  abs(x) |\n",
    "| \\_\\_contains\\_\\_ | membership                           |  y in x |\n",
    "|    \\_\\_lt\\_\\_    | less than                            |  y < x  |\n",
    "|    \\_\\_le\\_\\_    | less than or equal to                |  y <= x |\n",
    "|    \\_\\_eq\\_\\_    | equal to                             |  y == x |\n",
    "|    \\_\\_ne\\_\\_    | not equal to                         |  y != x |\n",
    "|    \\_\\_gt\\_\\_    | greater than                         |  y > x  |\n",
    "|    \\_\\_ge\\_\\_    | greater than or equal to             |  y >= x |\n",
    "|    \\_\\_str\\_\\_   | human-readable string representation |  str(x) |\n",
    "|   \\_\\_repr\\_\\_   | unambiguous string representation    | repr(x) |\n"
   ]
  },
  {
   "cell_type": "markdown",
   "id": "altered-greenhouse",
   "metadata": {},
   "source": [
    "# Bibliografia\n",
    "\n",
    "- Hill, C. (2020). Learning Scientific Programming with Python (2nd ed.). Cambridge University Press.  \n",
    "- Python 3.9.4 Documentation. (2021). Python 3.9.4 Documentation. https://docs.python.org/3/  \n",
    "- Python, R. (2021). Real Python Tutorials. Real Python. https://realpython.com/\n"
   ]
  }
 ],
 "metadata": {
  "kernelspec": {
   "display_name": "Python 3",
   "language": "python",
   "name": "python3"
  },
  "language_info": {
   "codemirror_mode": {
    "name": "ipython",
    "version": 3
   },
   "file_extension": ".py",
   "mimetype": "text/x-python",
   "name": "python",
   "nbconvert_exporter": "python",
   "pygments_lexer": "ipython3",
   "version": "3.8.8"
  }
 },
 "nbformat": 4,
 "nbformat_minor": 5
}
